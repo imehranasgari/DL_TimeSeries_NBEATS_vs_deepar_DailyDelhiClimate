{
 "cells": [
  {
   "cell_type": "code",
   "execution_count": 1,
   "id": "b16bfdab-dd75-4010-86c2-cc77c62bf429",
   "metadata": {},
   "outputs": [
    {
     "name": "stderr",
     "output_type": "stream",
     "text": [
      "C:\\ProgramData\\anaconda3\\envs\\ai\\lib\\site-packages\\fs\\__init__.py:4: UserWarning: pkg_resources is deprecated as an API. See https://setuptools.pypa.io/en/latest/pkg_resources.html. The pkg_resources package is slated for removal as early as 2025-11-30. Refrain from using this package or pin to Setuptools<81.\n",
      "  __import__(\"pkg_resources\").declare_namespace(__name__)  # type: ignore\n"
     ]
    }
   ],
   "source": [
    "import tensorflow as tf\n",
    "import numpy as np\n",
    "import pandas as pd\n",
    "import matplotlib.pyplot as plt\n",
    "import os\n",
    "\n",
    "from darts.models import NBEATSModel\n",
    "from darts.models import RNNModel\n",
    "from darts.utils.likelihood_models import GaussianLikelihood\n",
    "from darts.utils.missing_values import fill_missing_values\n",
    "from darts import TimeSeries\n",
    "from darts.dataprocessing.transformers import Scaler\n",
    "from darts.utils.timeseries_generation import datetime_attribute_timeseries\n",
    "from darts.timeseries import concatenate\n",
    "from darts.metrics import mape, mae, smape, rmse\n",
    "\n",
    "import torch\n",
    "from torch.optim.lr_scheduler import ReduceLROnPlateau\n",
    "\n",
    "from pytorch_lightning.loggers import CSVLogger\n",
    "from pytorch_lightning.callbacks import EarlyStopping, LearningRateMonitor,ModelCheckpoint, Timer, RichProgressBar\n",
    "\n",
    "import kagglehub\n",
    "from kagglehub import KaggleDatasetAdapter"
   ]
  },
  {
   "cell_type": "raw",
   "id": "c080a074-c9e3-445d-8292-b0bb93b5f4c4",
   "metadata": {},
   "source": [
    "# Download latest version\n",
    "path = kagglehub.dataset_download(\"sumanthvrao/daily-climate-time-series-data\")\n",
    "\n",
    "print(\"Path to dataset files:\", path)"
   ]
  },
  {
   "cell_type": "code",
   "execution_count": null,
   "id": "b9c6102b-fc85-4d85-9ea0-dab0897926d1",
   "metadata": {},
   "outputs": [],
   "source": [
    "# مسیر پوشه\n",
    "folder = r\"-\"\n",
    "\n",
    "# خواندن فایل‌ها\n",
    "train_path = os.path.join(folder, \"DailyDelhiClimateTrain.csv\")\n",
    "test_path = os.path.join(folder, \"DailyDelhiClimateTest.csv\")\n",
    "\n",
    "df_train = pd.read_csv(train_path)\n",
    "df_test = pd.read_csv(test_path)\n",
    "\n",
    "# چسباندن فایل‌ها (ردیف‌ها)\n",
    "df_full = pd.concat([df_train, df_test], ignore_index=True)\n",
    "\n",
    "# ذخیره فایل جدید\n",
    "output_path = os.path.join(folder, \"climate_full.csv\")\n",
    "df_full.to_csv(output_path, index=False)\n",
    "\n",
    "print(\"✅ فایل نهایی ذخیره شد در:\", output_path)\n"
   ]
  },
  {
   "cell_type": "code",
   "execution_count": 4,
   "id": "c185c22b-13b3-4509-951f-5a71743337e2",
   "metadata": {},
   "outputs": [
    {
     "data": {
      "text/html": [
       "<div>\n",
       "<style scoped>\n",
       "    .dataframe tbody tr th:only-of-type {\n",
       "        vertical-align: middle;\n",
       "    }\n",
       "\n",
       "    .dataframe tbody tr th {\n",
       "        vertical-align: top;\n",
       "    }\n",
       "\n",
       "    .dataframe thead th {\n",
       "        text-align: right;\n",
       "    }\n",
       "</style>\n",
       "<table border=\"1\" class=\"dataframe\">\n",
       "  <thead>\n",
       "    <tr style=\"text-align: right;\">\n",
       "      <th></th>\n",
       "      <th>date</th>\n",
       "      <th>meantemp</th>\n",
       "      <th>humidity</th>\n",
       "      <th>wind_speed</th>\n",
       "      <th>meanpressure</th>\n",
       "    </tr>\n",
       "  </thead>\n",
       "  <tbody>\n",
       "    <tr>\n",
       "      <th>0</th>\n",
       "      <td>2013-01-01</td>\n",
       "      <td>10.000000</td>\n",
       "      <td>84.500000</td>\n",
       "      <td>0.000000</td>\n",
       "      <td>1015.666667</td>\n",
       "    </tr>\n",
       "    <tr>\n",
       "      <th>1</th>\n",
       "      <td>2013-01-02</td>\n",
       "      <td>7.400000</td>\n",
       "      <td>92.000000</td>\n",
       "      <td>2.980000</td>\n",
       "      <td>1017.800000</td>\n",
       "    </tr>\n",
       "    <tr>\n",
       "      <th>2</th>\n",
       "      <td>2013-01-03</td>\n",
       "      <td>7.166667</td>\n",
       "      <td>87.000000</td>\n",
       "      <td>4.633333</td>\n",
       "      <td>1018.666667</td>\n",
       "    </tr>\n",
       "    <tr>\n",
       "      <th>3</th>\n",
       "      <td>2013-01-04</td>\n",
       "      <td>8.666667</td>\n",
       "      <td>71.333333</td>\n",
       "      <td>1.233333</td>\n",
       "      <td>1017.166667</td>\n",
       "    </tr>\n",
       "    <tr>\n",
       "      <th>4</th>\n",
       "      <td>2013-01-05</td>\n",
       "      <td>6.000000</td>\n",
       "      <td>86.833333</td>\n",
       "      <td>3.700000</td>\n",
       "      <td>1016.500000</td>\n",
       "    </tr>\n",
       "    <tr>\n",
       "      <th>5</th>\n",
       "      <td>2013-01-06</td>\n",
       "      <td>7.000000</td>\n",
       "      <td>82.800000</td>\n",
       "      <td>1.480000</td>\n",
       "      <td>1018.000000</td>\n",
       "    </tr>\n",
       "    <tr>\n",
       "      <th>6</th>\n",
       "      <td>2013-01-07</td>\n",
       "      <td>7.000000</td>\n",
       "      <td>78.600000</td>\n",
       "      <td>6.300000</td>\n",
       "      <td>1020.000000</td>\n",
       "    </tr>\n",
       "    <tr>\n",
       "      <th>7</th>\n",
       "      <td>2013-01-08</td>\n",
       "      <td>8.857143</td>\n",
       "      <td>63.714286</td>\n",
       "      <td>7.142857</td>\n",
       "      <td>1018.714286</td>\n",
       "    </tr>\n",
       "    <tr>\n",
       "      <th>8</th>\n",
       "      <td>2013-01-09</td>\n",
       "      <td>14.000000</td>\n",
       "      <td>51.250000</td>\n",
       "      <td>12.500000</td>\n",
       "      <td>1017.000000</td>\n",
       "    </tr>\n",
       "    <tr>\n",
       "      <th>9</th>\n",
       "      <td>2013-01-10</td>\n",
       "      <td>11.000000</td>\n",
       "      <td>62.000000</td>\n",
       "      <td>7.400000</td>\n",
       "      <td>1015.666667</td>\n",
       "    </tr>\n",
       "  </tbody>\n",
       "</table>\n",
       "</div>"
      ],
      "text/plain": [
       "         date   meantemp   humidity  wind_speed  meanpressure\n",
       "0  2013-01-01  10.000000  84.500000    0.000000   1015.666667\n",
       "1  2013-01-02   7.400000  92.000000    2.980000   1017.800000\n",
       "2  2013-01-03   7.166667  87.000000    4.633333   1018.666667\n",
       "3  2013-01-04   8.666667  71.333333    1.233333   1017.166667\n",
       "4  2013-01-05   6.000000  86.833333    3.700000   1016.500000\n",
       "5  2013-01-06   7.000000  82.800000    1.480000   1018.000000\n",
       "6  2013-01-07   7.000000  78.600000    6.300000   1020.000000\n",
       "7  2013-01-08   8.857143  63.714286    7.142857   1018.714286\n",
       "8  2013-01-09  14.000000  51.250000   12.500000   1017.000000\n",
       "9  2013-01-10  11.000000  62.000000    7.400000   1015.666667"
      ]
     },
     "execution_count": 4,
     "metadata": {},
     "output_type": "execute_result"
    }
   ],
   "source": [
    "df_full.head(10)"
   ]
  },
  {
   "cell_type": "markdown",
   "id": "e9d0be8b-70e9-48b5-8fbf-4220c404675c",
   "metadata": {},
   "source": [
    "### Displaying Duplicate Dates"
   ]
  },
  {
   "cell_type": "code",
   "execution_count": 6,
   "id": "677aacac-4b9b-4262-ac68-b1345067cf06",
   "metadata": {},
   "outputs": [
    {
     "name": "stdout",
     "output_type": "stream",
     "text": [
      "            date   meantemp    humidity  wind_speed  meanpressure\n",
      "1461  2017-01-01  10.000000  100.000000    0.000000        1016.0\n",
      "1462  2017-01-01  15.913043   85.869565    2.743478          59.0\n"
     ]
    }
   ],
   "source": [
    "duplicates = df_full[df_full.duplicated(subset=['date'], keep=False)]\n",
    "print(duplicates.sort_values('date'))"
   ]
  },
  {
   "cell_type": "code",
   "execution_count": 7,
   "id": "30aa4432-328f-4d94-91b2-7672def0b58d",
   "metadata": {},
   "outputs": [],
   "source": [
    "# حذف ردیف‌هایی که فشار آن‌ها کمتر از 900 است (نامعتبر است)\n",
    "df = df_full[df_full['meanpressure'] > 900]"
   ]
  },
  {
   "cell_type": "code",
   "execution_count": 8,
   "id": "99383db2-ffc2-43ad-92bf-1864f4403699",
   "metadata": {},
   "outputs": [],
   "source": [
    "# حذف تاریخ‌های تکراری (برای احتیاط)\n",
    "df= df.drop_duplicates(subset=['date'])"
   ]
  },
  {
   "cell_type": "code",
   "execution_count": 9,
   "id": "0d01bae7-9b8f-4c61-8f53-92296450ec4b",
   "metadata": {},
   "outputs": [
    {
     "name": "stdout",
     "output_type": "stream",
     "text": [
      "Index(['date', 'meantemp', 'humidity', 'wind_speed', 'meanpressure'], dtype='object')\n"
     ]
    }
   ],
   "source": [
    "print(df.columns)"
   ]
  },
  {
   "cell_type": "code",
   "execution_count": 10,
   "id": "aa313367-0e55-4282-91fb-5f16b589462e",
   "metadata": {},
   "outputs": [
    {
     "data": {
      "text/html": [
       "<div>\n",
       "<style scoped>\n",
       "    .dataframe tbody tr th:only-of-type {\n",
       "        vertical-align: middle;\n",
       "    }\n",
       "\n",
       "    .dataframe tbody tr th {\n",
       "        vertical-align: top;\n",
       "    }\n",
       "\n",
       "    .dataframe thead th {\n",
       "        text-align: right;\n",
       "    }\n",
       "</style>\n",
       "<table border=\"1\" class=\"dataframe\">\n",
       "  <thead>\n",
       "    <tr style=\"text-align: right;\">\n",
       "      <th></th>\n",
       "      <th>meantemp</th>\n",
       "      <th>humidity</th>\n",
       "      <th>wind_speed</th>\n",
       "      <th>meanpressure</th>\n",
       "    </tr>\n",
       "  </thead>\n",
       "  <tbody>\n",
       "    <tr>\n",
       "      <th>count</th>\n",
       "      <td>1571.000000</td>\n",
       "      <td>1571.000000</td>\n",
       "      <td>1571.000000</td>\n",
       "      <td>1571.000000</td>\n",
       "    </tr>\n",
       "    <tr>\n",
       "      <th>mean</th>\n",
       "      <td>25.219873</td>\n",
       "      <td>60.417729</td>\n",
       "      <td>6.896178</td>\n",
       "      <td>1013.165186</td>\n",
       "    </tr>\n",
       "    <tr>\n",
       "      <th>std</th>\n",
       "      <td>7.349107</td>\n",
       "      <td>16.971483</td>\n",
       "      <td>4.512019</td>\n",
       "      <td>168.914985</td>\n",
       "    </tr>\n",
       "    <tr>\n",
       "      <th>min</th>\n",
       "      <td>6.000000</td>\n",
       "      <td>13.428571</td>\n",
       "      <td>0.000000</td>\n",
       "      <td>938.066667</td>\n",
       "    </tr>\n",
       "    <tr>\n",
       "      <th>25%</th>\n",
       "      <td>18.500000</td>\n",
       "      <td>49.750000</td>\n",
       "      <td>3.700000</td>\n",
       "      <td>1001.875000</td>\n",
       "    </tr>\n",
       "    <tr>\n",
       "      <th>50%</th>\n",
       "      <td>27.166667</td>\n",
       "      <td>62.375000</td>\n",
       "      <td>6.342857</td>\n",
       "      <td>1009.125000</td>\n",
       "    </tr>\n",
       "    <tr>\n",
       "      <th>75%</th>\n",
       "      <td>31.142857</td>\n",
       "      <td>72.125000</td>\n",
       "      <td>9.262500</td>\n",
       "      <td>1015.225000</td>\n",
       "    </tr>\n",
       "    <tr>\n",
       "      <th>max</th>\n",
       "      <td>38.714286</td>\n",
       "      <td>100.000000</td>\n",
       "      <td>42.220000</td>\n",
       "      <td>7679.333333</td>\n",
       "    </tr>\n",
       "  </tbody>\n",
       "</table>\n",
       "</div>"
      ],
      "text/plain": [
       "          meantemp     humidity   wind_speed  meanpressure\n",
       "count  1571.000000  1571.000000  1571.000000   1571.000000\n",
       "mean     25.219873    60.417729     6.896178   1013.165186\n",
       "std       7.349107    16.971483     4.512019    168.914985\n",
       "min       6.000000    13.428571     0.000000    938.066667\n",
       "25%      18.500000    49.750000     3.700000   1001.875000\n",
       "50%      27.166667    62.375000     6.342857   1009.125000\n",
       "75%      31.142857    72.125000     9.262500   1015.225000\n",
       "max      38.714286   100.000000    42.220000   7679.333333"
      ]
     },
     "execution_count": 10,
     "metadata": {},
     "output_type": "execute_result"
    }
   ],
   "source": [
    "df.describe()"
   ]
  },
  {
   "cell_type": "code",
   "execution_count": 11,
   "id": "eddbecaa-5406-473c-9c86-c2e43748363f",
   "metadata": {},
   "outputs": [
    {
     "name": "stdout",
     "output_type": "stream",
     "text": [
      "<class 'pandas.core.frame.DataFrame'>\n",
      "Index: 1571 entries, 0 to 1575\n",
      "Data columns (total 5 columns):\n",
      " #   Column        Non-Null Count  Dtype  \n",
      "---  ------        --------------  -----  \n",
      " 0   date          1571 non-null   object \n",
      " 1   meantemp      1571 non-null   float64\n",
      " 2   humidity      1571 non-null   float64\n",
      " 3   wind_speed    1571 non-null   float64\n",
      " 4   meanpressure  1571 non-null   float64\n",
      "dtypes: float64(4), object(1)\n",
      "memory usage: 73.6+ KB\n"
     ]
    }
   ],
   "source": [
    "df.info()"
   ]
  },
  {
   "cell_type": "code",
   "execution_count": 12,
   "id": "8110f129-8bf0-495d-b6a3-fbce3aad367d",
   "metadata": {},
   "outputs": [
    {
     "data": {
      "text/plain": [
       "date            0\n",
       "meantemp        0\n",
       "humidity        0\n",
       "wind_speed      0\n",
       "meanpressure    0\n",
       "dtype: int64"
      ]
     },
     "execution_count": 12,
     "metadata": {},
     "output_type": "execute_result"
    }
   ],
   "source": [
    "df.isnull().sum()"
   ]
  },
  {
   "cell_type": "code",
   "execution_count": 13,
   "id": "ea7c9a55-f380-43a4-8d10-650f0da18455",
   "metadata": {},
   "outputs": [
    {
     "data": {
      "text/plain": [
       "<Axes: >"
      ]
     },
     "execution_count": 13,
     "metadata": {},
     "output_type": "execute_result"
    },
    {
     "data": {
      "image/png": "[encoded data removed]",
      "text/plain": [
       "<Figure size 640x480 with 1 Axes>"
      ]
     },
     "metadata": {},
     "output_type": "display_data"
    }
   ],
   "source": [
    "df.meantemp.plot(colormap='coolwarm')"
   ]
  },
  {
   "cell_type": "markdown",
   "id": "385fac46-7a60-436d-9cd0-7f2ed595ec3b",
   "metadata": {},
   "source": [
    "viridis\n",
    "\n",
    "plasma\n",
    "\n",
    "inferno\n",
    "\n",
    "magma\n",
    "\n",
    "cividis\n",
    "\n",
    "coolwarm"
   ]
  },
  {
   "cell_type": "markdown",
   "id": "505aad19-580d-4d66-a978-0c45006879c0",
   "metadata": {},
   "source": [
    "### make model just with meantemp"
   ]
  },
  {
   "cell_type": "code",
   "execution_count": 16,
   "id": "384f6080-be88-453a-956e-16fcfd541055",
   "metadata": {
    "scrolled": true
   },
   "outputs": [],
   "source": [
    "# ساخت سری زمانی\n",
    "df_clean_ts_daily = fill_missing_values(\n",
    "    TimeSeries.from_dataframe(\n",
    "    df=df,\n",
    "    time_col='date',\n",
    "    value_cols=['meantemp'],\n",
    "    fill_missing_dates=True,\n",
    "    freq='D'\n",
    "    ),fill = 'auto')"
   ]
  },
  {
   "cell_type": "code",
   "execution_count": 17,
   "id": "9837645d-d36c-41b4-8d84-a9567f0c2961",
   "metadata": {
    "scrolled": true
   },
   "outputs": [],
   "source": [
    "df_ts_daily = df_clean_ts_daily.astype(np.float32)"
   ]
  },
  {
   "cell_type": "code",
   "execution_count": 18,
   "id": "c13e5e62-0272-45bc-bc0c-7e3f5df2b6af",
   "metadata": {},
   "outputs": [
    {
     "data": {
      "text/html": [
       "<div><svg style=\"position: absolute; width: 0; height: 0; overflow: hidden\">\n",
       "<defs>\n",
       "<symbol id=\"icon-database\" viewBox=\"0 0 32 32\">\n",
       "<path d=\"M16 0c-8.837 0-16 2.239-16 5v4c0 2.761 7.163 5 16 5s16-2.239 16-5v-4c0-2.761-7.163-5-16-5z\"></path>\n",
       "<path d=\"M16 17c-8.837 0-16-2.239-16-5v6c0 2.761 7.163 5 16 5s16-2.239 16-5v-6c0 2.761-7.163 5-16 5z\"></path>\n",
       "<path d=\"M16 26c-8.837 0-16-2.239-16-5v6c0 2.761 7.163 5 16 5s16-2.239 16-5v-6c0 2.761-7.163 5-16 5z\"></path>\n",
       "</symbol>\n",
       "<symbol id=\"icon-file-text2\" viewBox=\"0 0 32 32\">\n",
       "<path d=\"M28.681 7.159c-0.694-0.947-1.662-2.053-2.724-3.116s-2.169-2.030-3.116-2.724c-1.612-1.182-2.393-1.319-2.841-1.319h-15.5c-1.378 0-2.5 1.121-2.5 2.5v27c0 1.378 1.122 2.5 2.5 2.5h23c1.378 0 2.5-1.122 2.5-2.5v-19.5c0-0.448-0.137-1.23-1.319-2.841zM24.543 5.457c0.959 0.959 1.712 1.825 2.268 2.543h-4.811v-4.811c0.718 0.556 1.584 1.309 2.543 2.268zM28 29.5c0 0.271-0.229 0.5-0.5 0.5h-23c-0.271 0-0.5-0.229-0.5-0.5v-27c0-0.271 0.229-0.5 0.5-0.5 0 0 15.499-0 15.5 0v7c0 0.552 0.448 1 1 1h7v19.5z\"></path>\n",
       "<path d=\"M23 26h-14c-0.552 0-1-0.448-1-1s0.448-1 1-1h14c0.552 0 1 0.448 1 1s-0.448 1-1 1z\"></path>\n",
       "<path d=\"M23 22h-14c-0.552 0-1-0.448-1-1s0.448-1 1-1h14c0.552 0 1 0.448 1 1s-0.448 1-1 1z\"></path>\n",
       "<path d=\"M23 18h-14c-0.552 0-1-0.448-1-1s0.448-1 1-1h14c0.552 0 1 0.448 1 1s-0.448 1-1 1z\"></path>\n",
       "</symbol>\n",
       "</defs>\n",
       "</svg>\n",
       "<style>/* CSS stylesheet for displaying xarray objects in jupyterlab.\n",
       " *\n",
       " */\n",
       "\n",
       ":root {\n",
       "  --xr-font-color0: var(--jp-content-font-color0, rgba(0, 0, 0, 1));\n",
       "  --xr-font-color2: var(--jp-content-font-color2, rgba(0, 0, 0, 0.54));\n",
       "  --xr-font-color3: var(--jp-content-font-color3, rgba(0, 0, 0, 0.38));\n",
       "  --xr-border-color: var(--jp-border-color2, #e0e0e0);\n",
       "  --xr-disabled-color: var(--jp-layout-color3, #bdbdbd);\n",
       "  --xr-background-color: var(--jp-layout-color0, white);\n",
       "  --xr-background-color-row-even: var(--jp-layout-color1, white);\n",
       "  --xr-background-color-row-odd: var(--jp-layout-color2, #eeeeee);\n",
       "}\n",
       "\n",
       "html[theme=dark],\n",
       "html[data-theme=dark],\n",
       "body[data-theme=dark],\n",
       "body.vscode-dark {\n",
       "  --xr-font-color0: rgba(255, 255, 255, 1);\n",
       "  --xr-font-color2: rgba(255, 255, 255, 0.54);\n",
       "  --xr-font-color3: rgba(255, 255, 255, 0.38);\n",
       "  --xr-border-color: #1F1F1F;\n",
       "  --xr-disabled-color: #515151;\n",
       "  --xr-background-color: #111111;\n",
       "  --xr-background-color-row-even: #111111;\n",
       "  --xr-background-color-row-odd: #313131;\n",
       "}\n",
       "\n",
       ".xr-wrap {\n",
       "  display: block !important;\n",
       "  min-width: 300px;\n",
       "  max-width: 700px;\n",
       "}\n",
       "\n",
       ".xr-text-repr-fallback {\n",
       "  /* fallback to plain text repr when CSS is not injected (untrusted notebook) */\n",
       "  display: none;\n",
       "}\n",
       "\n",
       ".xr-header {\n",
       "  padding-top: 6px;\n",
       "  padding-bottom: 6px;\n",
       "  margin-bottom: 4px;\n",
       "  border-bottom: solid 1px var(--xr-border-color);\n",
       "}\n",
       "\n",
       ".xr-header > div,\n",
       ".xr-header > ul {\n",
       "  display: inline;\n",
       "  margin-top: 0;\n",
       "  margin-bottom: 0;\n",
       "}\n",
       "\n",
       ".xr-obj-type,\n",
       ".xr-array-name {\n",
       "  margin-left: 2px;\n",
       "  margin-right: 10px;\n",
       "}\n",
       "\n",
       ".xr-obj-type {\n",
       "  color: var(--xr-font-color2);\n",
       "}\n",
       "\n",
       ".xr-sections {\n",
       "  padding-left: 0 !important;\n",
       "  display: grid;\n",
       "  grid-template-columns: 150px auto auto 1fr 20px 20px;\n",
       "}\n",
       "\n",
       ".xr-section-item {\n",
       "  display: contents;\n",
       "}\n",
       "\n",
       ".xr-section-item input {\n",
       "  display: none;\n",
       "}\n",
       "\n",
       ".xr-section-item input + label {\n",
       "  color: var(--xr-disabled-color);\n",
       "}\n",
       "\n",
       ".xr-section-item input:enabled + label {\n",
       "  cursor: pointer;\n",
       "  color: var(--xr-font-color2);\n",
       "}\n",
       "\n",
       ".xr-section-item input:enabled + label:hover {\n",
       "  color: var(--xr-font-color0);\n",
       "}\n",
       "\n",
       ".xr-section-summary {\n",
       "  grid-column: 1;\n",
       "  color: var(--xr-font-color2);\n",
       "  font-weight: 500;\n",
       "}\n",
       "\n",
       ".xr-section-summary > span {\n",
       "  display: inline-block;\n",
       "  padding-left: 0.5em;\n",
       "}\n",
       "\n",
       ".xr-section-summary-in:disabled + label {\n",
       "  color: var(--xr-font-color2);\n",
       "}\n",
       "\n",
       ".xr-section-summary-in + label:before {\n",
       "  display: inline-block;\n",
       "  content: '►';\n",
       "  font-size: 11px;\n",
       "  width: 15px;\n",
       "  text-align: center;\n",
       "}\n",
       "\n",
       ".xr-section-summary-in:disabled + label:before {\n",
       "  color: var(--xr-disabled-color);\n",
       "}\n",
       "\n",
       ".xr-section-summary-in:checked + label:before {\n",
       "  content: '▼';\n",
       "}\n",
       "\n",
       ".xr-section-summary-in:checked + label > span {\n",
       "  display: none;\n",
       "}\n",
       "\n",
       ".xr-section-summary,\n",
       ".xr-section-inline-details {\n",
       "  padding-top: 4px;\n",
       "  padding-bottom: 4px;\n",
       "}\n",
       "\n",
       ".xr-section-inline-details {\n",
       "  grid-column: 2 / -1;\n",
       "}\n",
       "\n",
       ".xr-section-details {\n",
       "  display: none;\n",
       "  grid-column: 1 / -1;\n",
       "  margin-bottom: 5px;\n",
       "}\n",
       "\n",
       ".xr-section-summary-in:checked ~ .xr-section-details {\n",
       "  display: contents;\n",
       "}\n",
       "\n",
       ".xr-array-wrap {\n",
       "  grid-column: 1 / -1;\n",
       "  display: grid;\n",
       "  grid-template-columns: 20px auto;\n",
       "}\n",
       "\n",
       ".xr-array-wrap > label {\n",
       "  grid-column: 1;\n",
       "  vertical-align: top;\n",
       "}\n",
       "\n",
       ".xr-preview {\n",
       "  color: var(--xr-font-color3);\n",
       "}\n",
       "\n",
       ".xr-array-preview,\n",
       ".xr-array-data {\n",
       "  padding: 0 5px !important;\n",
       "  grid-column: 2;\n",
       "}\n",
       "\n",
       ".xr-array-data,\n",
       ".xr-array-in:checked ~ .xr-array-preview {\n",
       "  display: none;\n",
       "}\n",
       "\n",
       ".xr-array-in:checked ~ .xr-array-data,\n",
       ".xr-array-preview {\n",
       "  display: inline-block;\n",
       "}\n",
       "\n",
       ".xr-dim-list {\n",
       "  display: inline-block !important;\n",
       "  list-style: none;\n",
       "  padding: 0 !important;\n",
       "  margin: 0;\n",
       "}\n",
       "\n",
       ".xr-dim-list li {\n",
       "  display: inline-block;\n",
       "  padding: 0;\n",
       "  margin: 0;\n",
       "}\n",
       "\n",
       ".xr-dim-list:before {\n",
       "  content: '(';\n",
       "}\n",
       "\n",
       ".xr-dim-list:after {\n",
       "  content: ')';\n",
       "}\n",
       "\n",
       ".xr-dim-list li:not(:last-child):after {\n",
       "  content: ',';\n",
       "  padding-right: 5px;\n",
       "}\n",
       "\n",
       ".xr-has-index {\n",
       "  font-weight: bold;\n",
       "}\n",
       "\n",
       ".xr-var-list,\n",
       ".xr-var-item {\n",
       "  display: contents;\n",
       "}\n",
       "\n",
       ".xr-var-item > div,\n",
       ".xr-var-item label,\n",
       ".xr-var-item > .xr-var-name span {\n",
       "  background-color: var(--xr-background-color-row-even);\n",
       "  margin-bottom: 0;\n",
       "}\n",
       "\n",
       ".xr-var-item > .xr-var-name:hover span {\n",
       "  padding-right: 5px;\n",
       "}\n",
       "\n",
       ".xr-var-list > li:nth-child(odd) > div,\n",
       ".xr-var-list > li:nth-child(odd) > label,\n",
       ".xr-var-list > li:nth-child(odd) > .xr-var-name span {\n",
       "  background-color: var(--xr-background-color-row-odd);\n",
       "}\n",
       "\n",
       ".xr-var-name {\n",
       "  grid-column: 1;\n",
       "}\n",
       "\n",
       ".xr-var-dims {\n",
       "  grid-column: 2;\n",
       "}\n",
       "\n",
       ".xr-var-dtype {\n",
       "  grid-column: 3;\n",
       "  text-align: right;\n",
       "  color: var(--xr-font-color2);\n",
       "}\n",
       "\n",
       ".xr-var-preview {\n",
       "  grid-column: 4;\n",
       "}\n",
       "\n",
       ".xr-index-preview {\n",
       "  grid-column: 2 / 5;\n",
       "  color: var(--xr-font-color2);\n",
       "}\n",
       "\n",
       ".xr-var-name,\n",
       ".xr-var-dims,\n",
       ".xr-var-dtype,\n",
       ".xr-preview,\n",
       ".xr-attrs dt {\n",
       "  white-space: nowrap;\n",
       "  overflow: hidden;\n",
       "  text-overflow: ellipsis;\n",
       "  padding-right: 10px;\n",
       "}\n",
       "\n",
       ".xr-var-name:hover,\n",
       ".xr-var-dims:hover,\n",
       ".xr-var-dtype:hover,\n",
       ".xr-attrs dt:hover {\n",
       "  overflow: visible;\n",
       "  width: auto;\n",
       "  z-index: 1;\n",
       "}\n",
       "\n",
       ".xr-var-attrs,\n",
       ".xr-var-data,\n",
       ".xr-index-data {\n",
       "  display: none;\n",
       "  background-color: var(--xr-background-color) !important;\n",
       "  padding-bottom: 5px !important;\n",
       "}\n",
       "\n",
       ".xr-var-attrs-in:checked ~ .xr-var-attrs,\n",
       ".xr-var-data-in:checked ~ .xr-var-data,\n",
       ".xr-index-data-in:checked ~ .xr-index-data {\n",
       "  display: block;\n",
       "}\n",
       "\n",
       ".xr-var-data > table {\n",
       "  float: right;\n",
       "}\n",
       "\n",
       ".xr-var-name span,\n",
       ".xr-var-data,\n",
       ".xr-index-name div,\n",
       ".xr-index-data,\n",
       ".xr-attrs {\n",
       "  padding-left: 25px !important;\n",
       "}\n",
       "\n",
       ".xr-attrs,\n",
       ".xr-var-attrs,\n",
       ".xr-var-data,\n",
       ".xr-index-data {\n",
       "  grid-column: 1 / -1;\n",
       "}\n",
       "\n",
       "dl.xr-attrs {\n",
       "  padding: 0;\n",
       "  margin: 0;\n",
       "  display: grid;\n",
       "  grid-template-columns: 125px auto;\n",
       "}\n",
       "\n",
       ".xr-attrs dt,\n",
       ".xr-attrs dd {\n",
       "  padding: 0;\n",
       "  margin: 0;\n",
       "  float: left;\n",
       "  padding-right: 10px;\n",
       "  width: auto;\n",
       "}\n",
       "\n",
       ".xr-attrs dt {\n",
       "  font-weight: normal;\n",
       "  grid-column: 1;\n",
       "}\n",
       "\n",
       ".xr-attrs dt:hover span {\n",
       "  display: inline-block;\n",
       "  background: var(--xr-background-color);\n",
       "  padding-right: 10px;\n",
       "}\n",
       "\n",
       ".xr-attrs dd {\n",
       "  grid-column: 2;\n",
       "  white-space: pre-wrap;\n",
       "  word-break: break-all;\n",
       "}\n",
       "\n",
       ".xr-icon-database,\n",
       ".xr-icon-file-text2,\n",
       ".xr-no-icon {\n",
       "  display: inline-block;\n",
       "  vertical-align: middle;\n",
       "  width: 1em;\n",
       "  height: 1.5em !important;\n",
       "  stroke-width: 0;\n",
       "  stroke: currentColor;\n",
       "  fill: currentColor;\n",
       "}\n",
       "</style><pre class='xr-text-repr-fallback'>&lt;TimeSeries (date: 1575, component: 1, sample: 1)&gt; Size: 6kB\n",
       "array([[[10.       ]],\n",
       "\n",
       "       [[ 7.4      ]],\n",
       "\n",
       "       [[ 7.1666665]],\n",
       "\n",
       "       ...,\n",
       "\n",
       "       [[32.9      ]],\n",
       "\n",
       "       [[32.875    ]],\n",
       "\n",
       "       [[32.       ]]], dtype=float32)\n",
       "Coordinates:\n",
       "  * date       (date) datetime64[ns] 13kB 2013-01-01 2013-01-02 ... 2017-04-24\n",
       "  * component  (component) object 8B &#x27;meantemp&#x27;\n",
       "Dimensions without coordinates: sample\n",
       "Attributes:\n",
       "    static_covariates:  None\n",
       "    hierarchy:          None\n",
       "    metadata:           None</pre><div class='xr-wrap' style='display:none'><div class='xr-header'><div class='xr-obj-type'>TimeSeries</div><div class='xr-array-name'></div><ul class='xr-dim-list'><li><span class='xr-has-index'>date</span>: 1575</li><li><span class='xr-has-index'>component</span>: 1</li><li><span>sample</span>: 1</li></ul></div><ul class='xr-sections'><li class='xr-section-item'><div class='xr-array-wrap'><input id='section-fb448c64-63f8-4856-adf5-003543135dd5' class='xr-array-in' type='checkbox' checked><label for='section-fb448c64-63f8-4856-adf5-003543135dd5' title='Show/hide data repr'><svg class='icon xr-icon-database'><use xlink:href='#icon-database'></use></svg></label><div class='xr-array-preview xr-preview'><span>10.0 7.4 7.167 8.667 6.0 7.0 7.0 ... 33.5 34.5 34.25 32.9 32.88 32.0</span></div><div class='xr-array-data'><pre>array([[[10.       ]],\n",
       "\n",
       "       [[ 7.4      ]],\n",
       "\n",
       "       [[ 7.1666665]],\n",
       "\n",
       "       ...,\n",
       "\n",
       "       [[32.9      ]],\n",
       "\n",
       "       [[32.875    ]],\n",
       "\n",
       "       [[32.       ]]], dtype=float32)</pre></div></div></li><li class='xr-section-item'><input id='section-6f8ef772-6bb4-4ae5-a9df-50262b7485c3' class='xr-section-summary-in' type='checkbox'  checked><label for='section-6f8ef772-6bb4-4ae5-a9df-50262b7485c3' class='xr-section-summary' >Coordinates: <span>(2)</span></label><div class='xr-section-inline-details'></div><div class='xr-section-details'><ul class='xr-var-list'><li class='xr-var-item'><div class='xr-var-name'><span class='xr-has-index'>date</span></div><div class='xr-var-dims'>(date)</div><div class='xr-var-dtype'>datetime64[ns]</div><div class='xr-var-preview xr-preview'>2013-01-01 ... 2017-04-24</div><input id='attrs-d4a42dc7-209c-4288-89b6-1f732ab90b38' class='xr-var-attrs-in' type='checkbox' disabled><label for='attrs-d4a42dc7-209c-4288-89b6-1f732ab90b38' title='Show/Hide attributes'><svg class='icon xr-icon-file-text2'><use xlink:href='#icon-file-text2'></use></svg></label><input id='data-ca277118-8db2-4149-8a42-13638f10e3e3' class='xr-var-data-in' type='checkbox'><label for='data-ca277118-8db2-4149-8a42-13638f10e3e3' title='Show/Hide data repr'><svg class='icon xr-icon-database'><use xlink:href='#icon-database'></use></svg></label><div class='xr-var-attrs'><dl class='xr-attrs'></dl></div><div class='xr-var-data'><pre>array([&#x27;2013-01-01T00:00:00.000000000&#x27;, &#x27;2013-01-02T00:00:00.000000000&#x27;,\n",
       "       &#x27;2013-01-03T00:00:00.000000000&#x27;, ..., &#x27;2017-04-22T00:00:00.000000000&#x27;,\n",
       "       &#x27;2017-04-23T00:00:00.000000000&#x27;, &#x27;2017-04-24T00:00:00.000000000&#x27;],\n",
       "      dtype=&#x27;datetime64[ns]&#x27;)</pre></div></li><li class='xr-var-item'><div class='xr-var-name'><span class='xr-has-index'>component</span></div><div class='xr-var-dims'>(component)</div><div class='xr-var-dtype'>object</div><div class='xr-var-preview xr-preview'>&#x27;meantemp&#x27;</div><input id='attrs-12e36374-dc46-437e-9bfc-9fab8a9a1d89' class='xr-var-attrs-in' type='checkbox' disabled><label for='attrs-12e36374-dc46-437e-9bfc-9fab8a9a1d89' title='Show/Hide attributes'><svg class='icon xr-icon-file-text2'><use xlink:href='#icon-file-text2'></use></svg></label><input id='data-decda9b1-ebfb-4373-aeba-fc87f44b131d' class='xr-var-data-in' type='checkbox'><label for='data-decda9b1-ebfb-4373-aeba-fc87f44b131d' title='Show/Hide data repr'><svg class='icon xr-icon-database'><use xlink:href='#icon-database'></use></svg></label><div class='xr-var-attrs'><dl class='xr-attrs'></dl></div><div class='xr-var-data'><pre>array([&#x27;meantemp&#x27;], dtype=object)</pre></div></li></ul></div></li><li class='xr-section-item'><input id='section-1340a5bc-d7de-4331-a196-8b97f4d86be6' class='xr-section-summary-in' type='checkbox'  ><label for='section-1340a5bc-d7de-4331-a196-8b97f4d86be6' class='xr-section-summary' >Indexes: <span>(2)</span></label><div class='xr-section-inline-details'></div><div class='xr-section-details'><ul class='xr-var-list'><li class='xr-var-item'><div class='xr-index-name'><div>date</div></div><div class='xr-index-preview'>PandasIndex</div><div></div><input id='index-ae10621d-b947-47bb-a90a-7c1273dc4ee8' class='xr-index-data-in' type='checkbox'/><label for='index-ae10621d-b947-47bb-a90a-7c1273dc4ee8' title='Show/Hide index repr'><svg class='icon xr-icon-database'><use xlink:href='#icon-database'></use></svg></label><div class='xr-index-data'><pre>PandasIndex(DatetimeIndex([&#x27;2013-01-01&#x27;, &#x27;2013-01-02&#x27;, &#x27;2013-01-03&#x27;, &#x27;2013-01-04&#x27;,\n",
       "               &#x27;2013-01-05&#x27;, &#x27;2013-01-06&#x27;, &#x27;2013-01-07&#x27;, &#x27;2013-01-08&#x27;,\n",
       "               &#x27;2013-01-09&#x27;, &#x27;2013-01-10&#x27;,\n",
       "               ...\n",
       "               &#x27;2017-04-15&#x27;, &#x27;2017-04-16&#x27;, &#x27;2017-04-17&#x27;, &#x27;2017-04-18&#x27;,\n",
       "               &#x27;2017-04-19&#x27;, &#x27;2017-04-20&#x27;, &#x27;2017-04-21&#x27;, &#x27;2017-04-22&#x27;,\n",
       "               &#x27;2017-04-23&#x27;, &#x27;2017-04-24&#x27;],\n",
       "              dtype=&#x27;datetime64[ns]&#x27;, name=&#x27;date&#x27;, length=1575, freq=&#x27;D&#x27;))</pre></div></li><li class='xr-var-item'><div class='xr-index-name'><div>component</div></div><div class='xr-index-preview'>PandasIndex</div><div></div><input id='index-cfbf0124-b741-49b2-9a89-8b75a2dc0521' class='xr-index-data-in' type='checkbox'/><label for='index-cfbf0124-b741-49b2-9a89-8b75a2dc0521' title='Show/Hide index repr'><svg class='icon xr-icon-database'><use xlink:href='#icon-database'></use></svg></label><div class='xr-index-data'><pre>PandasIndex(Index([&#x27;meantemp&#x27;], dtype=&#x27;object&#x27;, name=&#x27;component&#x27;))</pre></div></li></ul></div></li><li class='xr-section-item'><input id='section-69b970ae-1c52-4485-a540-6fa6b3e05b48' class='xr-section-summary-in' type='checkbox'  checked><label for='section-69b970ae-1c52-4485-a540-6fa6b3e05b48' class='xr-section-summary' >Attributes: <span>(3)</span></label><div class='xr-section-inline-details'></div><div class='xr-section-details'><dl class='xr-attrs'><dt><span>static_covariates :</span></dt><dd>None</dd><dt><span>hierarchy :</span></dt><dd>None</dd><dt><span>metadata :</span></dt><dd>None</dd></dl></div></li></ul></div></div>"
      ],
      "text/plain": [
       "<TimeSeries (date: 1575, component: 1, sample: 1)> Size: 6kB\n",
       "array([[[10.       ]],\n",
       "\n",
       "       [[ 7.4      ]],\n",
       "\n",
       "       [[ 7.1666665]],\n",
       "\n",
       "       ...,\n",
       "\n",
       "       [[32.9      ]],\n",
       "\n",
       "       [[32.875    ]],\n",
       "\n",
       "       [[32.       ]]], dtype=float32)\n",
       "Coordinates:\n",
       "  * date       (date) datetime64[ns] 13kB 2013-01-01 2013-01-02 ... 2017-04-24\n",
       "  * component  (component) object 8B 'meantemp'\n",
       "Dimensions without coordinates: sample\n",
       "Attributes:\n",
       "    static_covariates:  None\n",
       "    hierarchy:          None\n",
       "    metadata:           None"
      ]
     },
     "execution_count": 18,
     "metadata": {},
     "output_type": "execute_result"
    }
   ],
   "source": [
    "df_ts_daily"
   ]
  },
  {
   "cell_type": "code",
   "execution_count": 19,
   "id": "6ba8122d-bc4d-4a3f-ae14-d8324161c097",
   "metadata": {},
   "outputs": [],
   "source": [
    "scaler_ts = Scaler()"
   ]
  },
  {
   "cell_type": "code",
   "execution_count": 20,
   "id": "3a51a39f-f16f-4778-9286-17abac60f8be",
   "metadata": {},
   "outputs": [],
   "source": [
    "df_ts_daily_transform = scaler_ts.fit_transform(df_ts_daily)"
   ]
  },
  {
   "cell_type": "code",
   "execution_count": 21,
   "id": "785024cb-815d-40fd-9bfd-430a967b1294",
   "metadata": {},
   "outputs": [
    {
     "data": {
      "text/html": [
       "<div><svg style=\"position: absolute; width: 0; height: 0; overflow: hidden\">\n",
       "<defs>\n",
       "<symbol id=\"icon-database\" viewBox=\"0 0 32 32\">\n",
       "<path d=\"M16 0c-8.837 0-16 2.239-16 5v4c0 2.761 7.163 5 16 5s16-2.239 16-5v-4c0-2.761-7.163-5-16-5z\"></path>\n",
       "<path d=\"M16 17c-8.837 0-16-2.239-16-5v6c0 2.761 7.163 5 16 5s16-2.239 16-5v-6c0 2.761-7.163 5-16 5z\"></path>\n",
       "<path d=\"M16 26c-8.837 0-16-2.239-16-5v6c0 2.761 7.163 5 16 5s16-2.239 16-5v-6c0 2.761-7.163 5-16 5z\"></path>\n",
       "</symbol>\n",
       "<symbol id=\"icon-file-text2\" viewBox=\"0 0 32 32\">\n",
       "<path d=\"M28.681 7.159c-0.694-0.947-1.662-2.053-2.724-3.116s-2.169-2.030-3.116-2.724c-1.612-1.182-2.393-1.319-2.841-1.319h-15.5c-1.378 0-2.5 1.121-2.5 2.5v27c0 1.378 1.122 2.5 2.5 2.5h23c1.378 0 2.5-1.122 2.5-2.5v-19.5c0-0.448-0.137-1.23-1.319-2.841zM24.543 5.457c0.959 0.959 1.712 1.825 2.268 2.543h-4.811v-4.811c0.718 0.556 1.584 1.309 2.543 2.268zM28 29.5c0 0.271-0.229 0.5-0.5 0.5h-23c-0.271 0-0.5-0.229-0.5-0.5v-27c0-0.271 0.229-0.5 0.5-0.5 0 0 15.499-0 15.5 0v7c0 0.552 0.448 1 1 1h7v19.5z\"></path>\n",
       "<path d=\"M23 26h-14c-0.552 0-1-0.448-1-1s0.448-1 1-1h14c0.552 0 1 0.448 1 1s-0.448 1-1 1z\"></path>\n",
       "<path d=\"M23 22h-14c-0.552 0-1-0.448-1-1s0.448-1 1-1h14c0.552 0 1 0.448 1 1s-0.448 1-1 1z\"></path>\n",
       "<path d=\"M23 18h-14c-0.552 0-1-0.448-1-1s0.448-1 1-1h14c0.552 0 1 0.448 1 1s-0.448 1-1 1z\"></path>\n",
       "</symbol>\n",
       "</defs>\n",
       "</svg>\n",
       "<style>/* CSS stylesheet for displaying xarray objects in jupyterlab.\n",
       " *\n",
       " */\n",
       "\n",
       ":root {\n",
       "  --xr-font-color0: var(--jp-content-font-color0, rgba(0, 0, 0, 1));\n",
       "  --xr-font-color2: var(--jp-content-font-color2, rgba(0, 0, 0, 0.54));\n",
       "  --xr-font-color3: var(--jp-content-font-color3, rgba(0, 0, 0, 0.38));\n",
       "  --xr-border-color: var(--jp-border-color2, #e0e0e0);\n",
       "  --xr-disabled-color: var(--jp-layout-color3, #bdbdbd);\n",
       "  --xr-background-color: var(--jp-layout-color0, white);\n",
       "  --xr-background-color-row-even: var(--jp-layout-color1, white);\n",
       "  --xr-background-color-row-odd: var(--jp-layout-color2, #eeeeee);\n",
       "}\n",
       "\n",
       "html[theme=dark],\n",
       "html[data-theme=dark],\n",
       "body[data-theme=dark],\n",
       "body.vscode-dark {\n",
       "  --xr-font-color0: rgba(255, 255, 255, 1);\n",
       "  --xr-font-color2: rgba(255, 255, 255, 0.54);\n",
       "  --xr-font-color3: rgba(255, 255, 255, 0.38);\n",
       "  --xr-border-color: #1F1F1F;\n",
       "  --xr-disabled-color: #515151;\n",
       "  --xr-background-color: #111111;\n",
       "  --xr-background-color-row-even: #111111;\n",
       "  --xr-background-color-row-odd: #313131;\n",
       "}\n",
       "\n",
       ".xr-wrap {\n",
       "  display: block !important;\n",
       "  min-width: 300px;\n",
       "  max-width: 700px;\n",
       "}\n",
       "\n",
       ".xr-text-repr-fallback {\n",
       "  /* fallback to plain text repr when CSS is not injected (untrusted notebook) */\n",
       "  display: none;\n",
       "}\n",
       "\n",
       ".xr-header {\n",
       "  padding-top: 6px;\n",
       "  padding-bottom: 6px;\n",
       "  margin-bottom: 4px;\n",
       "  border-bottom: solid 1px var(--xr-border-color);\n",
       "}\n",
       "\n",
       ".xr-header > div,\n",
       ".xr-header > ul {\n",
       "  display: inline;\n",
       "  margin-top: 0;\n",
       "  margin-bottom: 0;\n",
       "}\n",
       "\n",
       ".xr-obj-type,\n",
       ".xr-array-name {\n",
       "  margin-left: 2px;\n",
       "  margin-right: 10px;\n",
       "}\n",
       "\n",
       ".xr-obj-type {\n",
       "  color: var(--xr-font-color2);\n",
       "}\n",
       "\n",
       ".xr-sections {\n",
       "  padding-left: 0 !important;\n",
       "  display: grid;\n",
       "  grid-template-columns: 150px auto auto 1fr 20px 20px;\n",
       "}\n",
       "\n",
       ".xr-section-item {\n",
       "  display: contents;\n",
       "}\n",
       "\n",
       ".xr-section-item input {\n",
       "  display: none;\n",
       "}\n",
       "\n",
       ".xr-section-item input + label {\n",
       "  color: var(--xr-disabled-color);\n",
       "}\n",
       "\n",
       ".xr-section-item input:enabled + label {\n",
       "  cursor: pointer;\n",
       "  color: var(--xr-font-color2);\n",
       "}\n",
       "\n",
       ".xr-section-item input:enabled + label:hover {\n",
       "  color: var(--xr-font-color0);\n",
       "}\n",
       "\n",
       ".xr-section-summary {\n",
       "  grid-column: 1;\n",
       "  color: var(--xr-font-color2);\n",
       "  font-weight: 500;\n",
       "}\n",
       "\n",
       ".xr-section-summary > span {\n",
       "  display: inline-block;\n",
       "  padding-left: 0.5em;\n",
       "}\n",
       "\n",
       ".xr-section-summary-in:disabled + label {\n",
       "  color: var(--xr-font-color2);\n",
       "}\n",
       "\n",
       ".xr-section-summary-in + label:before {\n",
       "  display: inline-block;\n",
       "  content: '►';\n",
       "  font-size: 11px;\n",
       "  width: 15px;\n",
       "  text-align: center;\n",
       "}\n",
       "\n",
       ".xr-section-summary-in:disabled + label:before {\n",
       "  color: var(--xr-disabled-color);\n",
       "}\n",
       "\n",
       ".xr-section-summary-in:checked + label:before {\n",
       "  content: '▼';\n",
       "}\n",
       "\n",
       ".xr-section-summary-in:checked + label > span {\n",
       "  display: none;\n",
       "}\n",
       "\n",
       ".xr-section-summary,\n",
       ".xr-section-inline-details {\n",
       "  padding-top: 4px;\n",
       "  padding-bottom: 4px;\n",
       "}\n",
       "\n",
       ".xr-section-inline-details {\n",
       "  grid-column: 2 / -1;\n",
       "}\n",
       "\n",
       ".xr-section-details {\n",
       "  display: none;\n",
       "  grid-column: 1 / -1;\n",
       "  margin-bottom: 5px;\n",
       "}\n",
       "\n",
       ".xr-section-summary-in:checked ~ .xr-section-details {\n",
       "  display: contents;\n",
       "}\n",
       "\n",
       ".xr-array-wrap {\n",
       "  grid-column: 1 / -1;\n",
       "  display: grid;\n",
       "  grid-template-columns: 20px auto;\n",
       "}\n",
       "\n",
       ".xr-array-wrap > label {\n",
       "  grid-column: 1;\n",
       "  vertical-align: top;\n",
       "}\n",
       "\n",
       ".xr-preview {\n",
       "  color: var(--xr-font-color3);\n",
       "}\n",
       "\n",
       ".xr-array-preview,\n",
       ".xr-array-data {\n",
       "  padding: 0 5px !important;\n",
       "  grid-column: 2;\n",
       "}\n",
       "\n",
       ".xr-array-data,\n",
       ".xr-array-in:checked ~ .xr-array-preview {\n",
       "  display: none;\n",
       "}\n",
       "\n",
       ".xr-array-in:checked ~ .xr-array-data,\n",
       ".xr-array-preview {\n",
       "  display: inline-block;\n",
       "}\n",
       "\n",
       ".xr-dim-list {\n",
       "  display: inline-block !important;\n",
       "  list-style: none;\n",
       "  padding: 0 !important;\n",
       "  margin: 0;\n",
       "}\n",
       "\n",
       ".xr-dim-list li {\n",
       "  display: inline-block;\n",
       "  padding: 0;\n",
       "  margin: 0;\n",
       "}\n",
       "\n",
       ".xr-dim-list:before {\n",
       "  content: '(';\n",
       "}\n",
       "\n",
       ".xr-dim-list:after {\n",
       "  content: ')';\n",
       "}\n",
       "\n",
       ".xr-dim-list li:not(:last-child):after {\n",
       "  content: ',';\n",
       "  padding-right: 5px;\n",
       "}\n",
       "\n",
       ".xr-has-index {\n",
       "  font-weight: bold;\n",
       "}\n",
       "\n",
       ".xr-var-list,\n",
       ".xr-var-item {\n",
       "  display: contents;\n",
       "}\n",
       "\n",
       ".xr-var-item > div,\n",
       ".xr-var-item label,\n",
       ".xr-var-item > .xr-var-name span {\n",
       "  background-color: var(--xr-background-color-row-even);\n",
       "  margin-bottom: 0;\n",
       "}\n",
       "\n",
       ".xr-var-item > .xr-var-name:hover span {\n",
       "  padding-right: 5px;\n",
       "}\n",
       "\n",
       ".xr-var-list > li:nth-child(odd) > div,\n",
       ".xr-var-list > li:nth-child(odd) > label,\n",
       ".xr-var-list > li:nth-child(odd) > .xr-var-name span {\n",
       "  background-color: var(--xr-background-color-row-odd);\n",
       "}\n",
       "\n",
       ".xr-var-name {\n",
       "  grid-column: 1;\n",
       "}\n",
       "\n",
       ".xr-var-dims {\n",
       "  grid-column: 2;\n",
       "}\n",
       "\n",
       ".xr-var-dtype {\n",
       "  grid-column: 3;\n",
       "  text-align: right;\n",
       "  color: var(--xr-font-color2);\n",
       "}\n",
       "\n",
       ".xr-var-preview {\n",
       "  grid-column: 4;\n",
       "}\n",
       "\n",
       ".xr-index-preview {\n",
       "  grid-column: 2 / 5;\n",
       "  color: var(--xr-font-color2);\n",
       "}\n",
       "\n",
       ".xr-var-name,\n",
       ".xr-var-dims,\n",
       ".xr-var-dtype,\n",
       ".xr-preview,\n",
       ".xr-attrs dt {\n",
       "  white-space: nowrap;\n",
       "  overflow: hidden;\n",
       "  text-overflow: ellipsis;\n",
       "  padding-right: 10px;\n",
       "}\n",
       "\n",
       ".xr-var-name:hover,\n",
       ".xr-var-dims:hover,\n",
       ".xr-var-dtype:hover,\n",
       ".xr-attrs dt:hover {\n",
       "  overflow: visible;\n",
       "  width: auto;\n",
       "  z-index: 1;\n",
       "}\n",
       "\n",
       ".xr-var-attrs,\n",
       ".xr-var-data,\n",
       ".xr-index-data {\n",
       "  display: none;\n",
       "  background-color: var(--xr-background-color) !important;\n",
       "  padding-bottom: 5px !important;\n",
       "}\n",
       "\n",
       ".xr-var-attrs-in:checked ~ .xr-var-attrs,\n",
       ".xr-var-data-in:checked ~ .xr-var-data,\n",
       ".xr-index-data-in:checked ~ .xr-index-data {\n",
       "  display: block;\n",
       "}\n",
       "\n",
       ".xr-var-data > table {\n",
       "  float: right;\n",
       "}\n",
       "\n",
       ".xr-var-name span,\n",
       ".xr-var-data,\n",
       ".xr-index-name div,\n",
       ".xr-index-data,\n",
       ".xr-attrs {\n",
       "  padding-left: 25px !important;\n",
       "}\n",
       "\n",
       ".xr-attrs,\n",
       ".xr-var-attrs,\n",
       ".xr-var-data,\n",
       ".xr-index-data {\n",
       "  grid-column: 1 / -1;\n",
       "}\n",
       "\n",
       "dl.xr-attrs {\n",
       "  padding: 0;\n",
       "  margin: 0;\n",
       "  display: grid;\n",
       "  grid-template-columns: 125px auto;\n",
       "}\n",
       "\n",
       ".xr-attrs dt,\n",
       ".xr-attrs dd {\n",
       "  padding: 0;\n",
       "  margin: 0;\n",
       "  float: left;\n",
       "  padding-right: 10px;\n",
       "  width: auto;\n",
       "}\n",
       "\n",
       ".xr-attrs dt {\n",
       "  font-weight: normal;\n",
       "  grid-column: 1;\n",
       "}\n",
       "\n",
       ".xr-attrs dt:hover span {\n",
       "  display: inline-block;\n",
       "  background: var(--xr-background-color);\n",
       "  padding-right: 10px;\n",
       "}\n",
       "\n",
       ".xr-attrs dd {\n",
       "  grid-column: 2;\n",
       "  white-space: pre-wrap;\n",
       "  word-break: break-all;\n",
       "}\n",
       "\n",
       ".xr-icon-database,\n",
       ".xr-icon-file-text2,\n",
       ".xr-no-icon {\n",
       "  display: inline-block;\n",
       "  vertical-align: middle;\n",
       "  width: 1em;\n",
       "  height: 1.5em !important;\n",
       "  stroke-width: 0;\n",
       "  stroke: currentColor;\n",
       "  fill: currentColor;\n",
       "}\n",
       "</style><pre class='xr-text-repr-fallback'>&lt;TimeSeries (date: 1575, component: 1, sample: 1)&gt; Size: 6kB\n",
       "array([[[0.12227073]],\n",
       "\n",
       "       [[0.04279476]],\n",
       "\n",
       "       [[0.03566229]],\n",
       "\n",
       "       ...,\n",
       "\n",
       "       [[0.82227075]],\n",
       "\n",
       "       [[0.8215065 ]],\n",
       "\n",
       "       [[0.7947598 ]]], dtype=float32)\n",
       "Coordinates:\n",
       "  * date       (date) datetime64[ns] 13kB 2013-01-01 2013-01-02 ... 2017-04-24\n",
       "  * component  (component) object 8B &#x27;meantemp&#x27;\n",
       "Dimensions without coordinates: sample\n",
       "Attributes:\n",
       "    static_covariates:  None\n",
       "    hierarchy:          None\n",
       "    metadata:           None</pre><div class='xr-wrap' style='display:none'><div class='xr-header'><div class='xr-obj-type'>TimeSeries</div><div class='xr-array-name'></div><ul class='xr-dim-list'><li><span class='xr-has-index'>date</span>: 1575</li><li><span class='xr-has-index'>component</span>: 1</li><li><span>sample</span>: 1</li></ul></div><ul class='xr-sections'><li class='xr-section-item'><div class='xr-array-wrap'><input id='section-b59810e8-8724-436b-93b0-6b7660b84376' class='xr-array-in' type='checkbox' checked><label for='section-b59810e8-8724-436b-93b0-6b7660b84376' title='Show/hide data repr'><svg class='icon xr-icon-database'><use xlink:href='#icon-database'></use></svg></label><div class='xr-array-preview xr-preview'><span>0.1223 0.04279 0.03566 0.08151 0.0 ... 0.8635 0.8223 0.8215 0.7948</span></div><div class='xr-array-data'><pre>array([[[0.12227073]],\n",
       "\n",
       "       [[0.04279476]],\n",
       "\n",
       "       [[0.03566229]],\n",
       "\n",
       "       ...,\n",
       "\n",
       "       [[0.82227075]],\n",
       "\n",
       "       [[0.8215065 ]],\n",
       "\n",
       "       [[0.7947598 ]]], dtype=float32)</pre></div></div></li><li class='xr-section-item'><input id='section-71464769-4d6d-4f70-93b9-d368b2bb6762' class='xr-section-summary-in' type='checkbox'  checked><label for='section-71464769-4d6d-4f70-93b9-d368b2bb6762' class='xr-section-summary' >Coordinates: <span>(2)</span></label><div class='xr-section-inline-details'></div><div class='xr-section-details'><ul class='xr-var-list'><li class='xr-var-item'><div class='xr-var-name'><span class='xr-has-index'>date</span></div><div class='xr-var-dims'>(date)</div><div class='xr-var-dtype'>datetime64[ns]</div><div class='xr-var-preview xr-preview'>2013-01-01 ... 2017-04-24</div><input id='attrs-1023d87d-aee3-4699-9387-2765b2ca0c26' class='xr-var-attrs-in' type='checkbox' disabled><label for='attrs-1023d87d-aee3-4699-9387-2765b2ca0c26' title='Show/Hide attributes'><svg class='icon xr-icon-file-text2'><use xlink:href='#icon-file-text2'></use></svg></label><input id='data-391b60df-cd9d-42e7-b4a0-e49ff84bb658' class='xr-var-data-in' type='checkbox'><label for='data-391b60df-cd9d-42e7-b4a0-e49ff84bb658' title='Show/Hide data repr'><svg class='icon xr-icon-database'><use xlink:href='#icon-database'></use></svg></label><div class='xr-var-attrs'><dl class='xr-attrs'></dl></div><div class='xr-var-data'><pre>array([&#x27;2013-01-01T00:00:00.000000000&#x27;, &#x27;2013-01-02T00:00:00.000000000&#x27;,\n",
       "       &#x27;2013-01-03T00:00:00.000000000&#x27;, ..., &#x27;2017-04-22T00:00:00.000000000&#x27;,\n",
       "       &#x27;2017-04-23T00:00:00.000000000&#x27;, &#x27;2017-04-24T00:00:00.000000000&#x27;],\n",
       "      dtype=&#x27;datetime64[ns]&#x27;)</pre></div></li><li class='xr-var-item'><div class='xr-var-name'><span class='xr-has-index'>component</span></div><div class='xr-var-dims'>(component)</div><div class='xr-var-dtype'>object</div><div class='xr-var-preview xr-preview'>&#x27;meantemp&#x27;</div><input id='attrs-bd6e07b9-ae22-4fa6-8e37-649fa408b4d7' class='xr-var-attrs-in' type='checkbox' disabled><label for='attrs-bd6e07b9-ae22-4fa6-8e37-649fa408b4d7' title='Show/Hide attributes'><svg class='icon xr-icon-file-text2'><use xlink:href='#icon-file-text2'></use></svg></label><input id='data-2bea9e27-f0a3-4b7d-bee8-eb537f85ddc3' class='xr-var-data-in' type='checkbox'><label for='data-2bea9e27-f0a3-4b7d-bee8-eb537f85ddc3' title='Show/Hide data repr'><svg class='icon xr-icon-database'><use xlink:href='#icon-database'></use></svg></label><div class='xr-var-attrs'><dl class='xr-attrs'></dl></div><div class='xr-var-data'><pre>array([&#x27;meantemp&#x27;], dtype=object)</pre></div></li></ul></div></li><li class='xr-section-item'><input id='section-21cc0e58-067e-4b1b-89f9-8604bd0cf336' class='xr-section-summary-in' type='checkbox'  ><label for='section-21cc0e58-067e-4b1b-89f9-8604bd0cf336' class='xr-section-summary' >Indexes: <span>(2)</span></label><div class='xr-section-inline-details'></div><div class='xr-section-details'><ul class='xr-var-list'><li class='xr-var-item'><div class='xr-index-name'><div>date</div></div><div class='xr-index-preview'>PandasIndex</div><div></div><input id='index-d954b4d8-ecca-4eca-8d48-2601ee0fe640' class='xr-index-data-in' type='checkbox'/><label for='index-d954b4d8-ecca-4eca-8d48-2601ee0fe640' title='Show/Hide index repr'><svg class='icon xr-icon-database'><use xlink:href='#icon-database'></use></svg></label><div class='xr-index-data'><pre>PandasIndex(DatetimeIndex([&#x27;2013-01-01&#x27;, &#x27;2013-01-02&#x27;, &#x27;2013-01-03&#x27;, &#x27;2013-01-04&#x27;,\n",
       "               &#x27;2013-01-05&#x27;, &#x27;2013-01-06&#x27;, &#x27;2013-01-07&#x27;, &#x27;2013-01-08&#x27;,\n",
       "               &#x27;2013-01-09&#x27;, &#x27;2013-01-10&#x27;,\n",
       "               ...\n",
       "               &#x27;2017-04-15&#x27;, &#x27;2017-04-16&#x27;, &#x27;2017-04-17&#x27;, &#x27;2017-04-18&#x27;,\n",
       "               &#x27;2017-04-19&#x27;, &#x27;2017-04-20&#x27;, &#x27;2017-04-21&#x27;, &#x27;2017-04-22&#x27;,\n",
       "               &#x27;2017-04-23&#x27;, &#x27;2017-04-24&#x27;],\n",
       "              dtype=&#x27;datetime64[ns]&#x27;, name=&#x27;date&#x27;, length=1575, freq=&#x27;D&#x27;))</pre></div></li><li class='xr-var-item'><div class='xr-index-name'><div>component</div></div><div class='xr-index-preview'>PandasIndex</div><div></div><input id='index-40c04e2d-ce1b-46d5-b16c-26cddd4209a7' class='xr-index-data-in' type='checkbox'/><label for='index-40c04e2d-ce1b-46d5-b16c-26cddd4209a7' title='Show/Hide index repr'><svg class='icon xr-icon-database'><use xlink:href='#icon-database'></use></svg></label><div class='xr-index-data'><pre>PandasIndex(Index([&#x27;meantemp&#x27;], dtype=&#x27;object&#x27;, name=&#x27;component&#x27;))</pre></div></li></ul></div></li><li class='xr-section-item'><input id='section-a4c04cd7-870a-4b34-a374-f0aa2477fdf0' class='xr-section-summary-in' type='checkbox'  checked><label for='section-a4c04cd7-870a-4b34-a374-f0aa2477fdf0' class='xr-section-summary' >Attributes: <span>(3)</span></label><div class='xr-section-inline-details'></div><div class='xr-section-details'><dl class='xr-attrs'><dt><span>static_covariates :</span></dt><dd>None</dd><dt><span>hierarchy :</span></dt><dd>None</dd><dt><span>metadata :</span></dt><dd>None</dd></dl></div></li></ul></div></div>"
      ],
      "text/plain": [
       "<TimeSeries (date: 1575, component: 1, sample: 1)> Size: 6kB\n",
       "array([[[0.12227073]],\n",
       "\n",
       "       [[0.04279476]],\n",
       "\n",
       "       [[0.03566229]],\n",
       "\n",
       "       ...,\n",
       "\n",
       "       [[0.82227075]],\n",
       "\n",
       "       [[0.8215065 ]],\n",
       "\n",
       "       [[0.7947598 ]]], dtype=float32)\n",
       "Coordinates:\n",
       "  * date       (date) datetime64[ns] 13kB 2013-01-01 2013-01-02 ... 2017-04-24\n",
       "  * component  (component) object 8B 'meantemp'\n",
       "Dimensions without coordinates: sample\n",
       "Attributes:\n",
       "    static_covariates:  None\n",
       "    hierarchy:          None\n",
       "    metadata:           None"
      ]
     },
     "execution_count": 21,
     "metadata": {},
     "output_type": "execute_result"
    }
   ],
   "source": [
    "df_ts_daily_transform"
   ]
  },
  {
   "cell_type": "code",
   "execution_count": 22,
   "id": "5c329787-17e1-4eae-b8a2-6dd8ad0dd1e5",
   "metadata": {},
   "outputs": [
    {
     "data": {
      "text/plain": [
       "<Axes: xlabel='date'>"
      ]
     },
     "execution_count": 22,
     "metadata": {},
     "output_type": "execute_result"
    },
    {
     "data": {
      "image/png": "[encoded data removed]",
      "text/plain": [
       "<Figure size 640x480 with 1 Axes>"
      ]
     },
     "metadata": {},
     "output_type": "display_data"
    }
   ],
   "source": [
    "df_ts_daily_transform.plot(color='b',linewidth =0.6)"
   ]
  },
  {
   "cell_type": "code",
   "execution_count": 23,
   "id": "9cd2b11a-5b49-46c6-bf47-9cfd31dd2ccd",
   "metadata": {},
   "outputs": [],
   "source": [
    "train_ts, val_test_ts = df_ts_daily_transform.split_after(0.7)\n",
    "val_ts, test_ts = val_test_ts.split_after(0.5)"
   ]
  },
  {
   "cell_type": "markdown",
   "id": "6bd2e238-7459-4081-b1a7-cbd370bbb932",
   "metadata": {},
   "source": [
    "## past covariation"
   ]
  },
  {
   "cell_type": "code",
   "execution_count": 25,
   "id": "b476d94a-1807-432c-a39e-6d337a51d127",
   "metadata": {},
   "outputs": [],
   "source": [
    "df_p = df.copy()\n",
    "\n",
    "# محاسبه میانگین متحرک 7 روزه دما\n",
    "df_p['ma_7'] = df['meantemp'].rolling(window=7).mean().bfill()\n",
    "\n",
    "# انحراف معیار متحرک 7 روزه\n",
    "df_p['std_7'] = df['meantemp'].rolling(window=7).std().bfill()\n",
    "\n",
    "# نرخ تغییر نسبت به روز قبل\n",
    "df_p['roc_1'] = df['meantemp'].pct_change(periods=1).bfill()\n",
    "\n"
   ]
  },
  {
   "cell_type": "code",
   "execution_count": 26,
   "id": "d5518268-b432-49ff-89e2-74a5f98b9625",
   "metadata": {},
   "outputs": [
    {
     "data": {
      "text/plain": [
       "date            0\n",
       "meantemp        0\n",
       "humidity        0\n",
       "wind_speed      0\n",
       "meanpressure    0\n",
       "ma_7            0\n",
       "std_7           0\n",
       "roc_1           0\n",
       "dtype: int64"
      ]
     },
     "execution_count": 26,
     "metadata": {},
     "output_type": "execute_result"
    }
   ],
   "source": [
    "df_p.isin([np.inf, -np.inf]).sum()  # بررسی inf"
   ]
  },
  {
   "cell_type": "code",
   "execution_count": 27,
   "id": "dee739c5-e988-476e-824e-f2ad38e5ec12",
   "metadata": {},
   "outputs": [],
   "source": [
    "# df_p.replace([np.inf, -np.inf], np.nan, inplace=True)\n",
    "# df_p = df_p.bfill().ffill()"
   ]
  },
  {
   "cell_type": "code",
   "execution_count": 28,
   "id": "49ea6106-6a2b-43ba-b505-302694ef194e",
   "metadata": {},
   "outputs": [
    {
     "name": "stdout",
     "output_type": "stream",
     "text": [
      "    humidity  wind_speed  meanpressure      ma_7     std_7     roc_1\n",
      "0  84.500000    0.000000   1015.666667  7.604762  1.316903 -0.260000\n",
      "1  92.000000    2.980000   1017.800000  7.604762  1.316903 -0.260000\n",
      "2  87.000000    4.633333   1018.666667  7.604762  1.316903 -0.031532\n",
      "3  71.333333    1.233333   1017.166667  7.604762  1.316903  0.209302\n",
      "4  86.833333    3.700000   1016.500000  7.604762  1.316903 -0.307692\n",
      "5  82.800000    1.480000   1018.000000  7.604762  1.316903  0.166667\n",
      "6  78.600000    6.300000   1020.000000  7.604762  1.316903  0.000000\n",
      "7  63.714286    7.142857   1018.714286  7.441497  1.004166  0.265306\n",
      "8  51.250000   12.500000   1017.000000  8.384354  2.672062  0.580645\n",
      "9  62.000000    7.400000   1015.666667  8.931973  2.771856 -0.214286\n"
     ]
    }
   ],
   "source": [
    "print(df_p[[\"humidity\",\"wind_speed\",\"meanpressure\", \"ma_7\", \"std_7\", \"roc_1\"]].iloc[0:10])"
   ]
  },
  {
   "cell_type": "code",
   "execution_count": 29,
   "id": "5cac5b06-615d-4d0a-9c37-d8579bb732a8",
   "metadata": {},
   "outputs": [
    {
     "data": {
      "text/html": [
       "<div>\n",
       "<style scoped>\n",
       "    .dataframe tbody tr th:only-of-type {\n",
       "        vertical-align: middle;\n",
       "    }\n",
       "\n",
       "    .dataframe tbody tr th {\n",
       "        vertical-align: top;\n",
       "    }\n",
       "\n",
       "    .dataframe thead th {\n",
       "        text-align: right;\n",
       "    }\n",
       "</style>\n",
       "<table border=\"1\" class=\"dataframe\">\n",
       "  <thead>\n",
       "    <tr style=\"text-align: right;\">\n",
       "      <th></th>\n",
       "      <th>meantemp</th>\n",
       "      <th>humidity</th>\n",
       "      <th>wind_speed</th>\n",
       "      <th>meanpressure</th>\n",
       "      <th>ma_7</th>\n",
       "      <th>std_7</th>\n",
       "      <th>roc_1</th>\n",
       "    </tr>\n",
       "  </thead>\n",
       "  <tbody>\n",
       "    <tr>\n",
       "      <th>count</th>\n",
       "      <td>1571.000000</td>\n",
       "      <td>1571.000000</td>\n",
       "      <td>1571.000000</td>\n",
       "      <td>1571.000000</td>\n",
       "      <td>1571.000000</td>\n",
       "      <td>1571.000000</td>\n",
       "      <td>1571.000000</td>\n",
       "    </tr>\n",
       "    <tr>\n",
       "      <th>mean</th>\n",
       "      <td>25.219873</td>\n",
       "      <td>60.417729</td>\n",
       "      <td>6.896178</td>\n",
       "      <td>1013.165186</td>\n",
       "      <td>25.170360</td>\n",
       "      <td>1.479377</td>\n",
       "      <td>0.003638</td>\n",
       "    </tr>\n",
       "    <tr>\n",
       "      <th>std</th>\n",
       "      <td>7.349107</td>\n",
       "      <td>16.971483</td>\n",
       "      <td>4.512019</td>\n",
       "      <td>168.914985</td>\n",
       "      <td>7.227078</td>\n",
       "      <td>0.692877</td>\n",
       "      <td>0.079834</td>\n",
       "    </tr>\n",
       "    <tr>\n",
       "      <th>min</th>\n",
       "      <td>6.000000</td>\n",
       "      <td>13.428571</td>\n",
       "      <td>0.000000</td>\n",
       "      <td>938.066667</td>\n",
       "      <td>7.441497</td>\n",
       "      <td>0.118387</td>\n",
       "      <td>-0.335664</td>\n",
       "    </tr>\n",
       "    <tr>\n",
       "      <th>25%</th>\n",
       "      <td>18.500000</td>\n",
       "      <td>49.750000</td>\n",
       "      <td>3.700000</td>\n",
       "      <td>1001.875000</td>\n",
       "      <td>18.366071</td>\n",
       "      <td>0.983263</td>\n",
       "      <td>-0.035485</td>\n",
       "    </tr>\n",
       "    <tr>\n",
       "      <th>50%</th>\n",
       "      <td>27.166667</td>\n",
       "      <td>62.375000</td>\n",
       "      <td>6.342857</td>\n",
       "      <td>1009.125000</td>\n",
       "      <td>27.556122</td>\n",
       "      <td>1.376442</td>\n",
       "      <td>0.003788</td>\n",
       "    </tr>\n",
       "    <tr>\n",
       "      <th>75%</th>\n",
       "      <td>31.142857</td>\n",
       "      <td>72.125000</td>\n",
       "      <td>9.262500</td>\n",
       "      <td>1015.225000</td>\n",
       "      <td>31.155612</td>\n",
       "      <td>1.880513</td>\n",
       "      <td>0.041808</td>\n",
       "    </tr>\n",
       "    <tr>\n",
       "      <th>max</th>\n",
       "      <td>38.714286</td>\n",
       "      <td>100.000000</td>\n",
       "      <td>42.220000</td>\n",
       "      <td>7679.333333</td>\n",
       "      <td>37.607143</td>\n",
       "      <td>4.203807</td>\n",
       "      <td>0.850000</td>\n",
       "    </tr>\n",
       "  </tbody>\n",
       "</table>\n",
       "</div>"
      ],
      "text/plain": [
       "          meantemp     humidity   wind_speed  meanpressure         ma_7  \\\n",
       "count  1571.000000  1571.000000  1571.000000   1571.000000  1571.000000   \n",
       "mean     25.219873    60.417729     6.896178   1013.165186    25.170360   \n",
       "std       7.349107    16.971483     4.512019    168.914985     7.227078   \n",
       "min       6.000000    13.428571     0.000000    938.066667     7.441497   \n",
       "25%      18.500000    49.750000     3.700000   1001.875000    18.366071   \n",
       "50%      27.166667    62.375000     6.342857   1009.125000    27.556122   \n",
       "75%      31.142857    72.125000     9.262500   1015.225000    31.155612   \n",
       "max      38.714286   100.000000    42.220000   7679.333333    37.607143   \n",
       "\n",
       "             std_7        roc_1  \n",
       "count  1571.000000  1571.000000  \n",
       "mean      1.479377     0.003638  \n",
       "std       0.692877     0.079834  \n",
       "min       0.118387    -0.335664  \n",
       "25%       0.983263    -0.035485  \n",
       "50%       1.376442     0.003788  \n",
       "75%       1.880513     0.041808  \n",
       "max       4.203807     0.850000  "
      ]
     },
     "execution_count": 29,
     "metadata": {},
     "output_type": "execute_result"
    }
   ],
   "source": [
    "df_p.describe()"
   ]
  },
  {
   "cell_type": "code",
   "execution_count": 30,
   "id": "cee56e55-dd27-49b5-8b69-7623a780135e",
   "metadata": {},
   "outputs": [
    {
     "data": {
      "text/plain": [
       "date            0\n",
       "meantemp        0\n",
       "humidity        0\n",
       "wind_speed      0\n",
       "meanpressure    0\n",
       "ma_7            0\n",
       "std_7           0\n",
       "roc_1           0\n",
       "dtype: int64"
      ]
     },
     "execution_count": 30,
     "metadata": {},
     "output_type": "execute_result"
    }
   ],
   "source": [
    "df_p.isna().sum()"
   ]
  },
  {
   "cell_type": "code",
   "execution_count": 31,
   "id": "8e14a3bd-20b2-4736-952d-6520892bdac3",
   "metadata": {},
   "outputs": [
    {
     "data": {
      "text/html": [
       "<div>\n",
       "<style scoped>\n",
       "    .dataframe tbody tr th:only-of-type {\n",
       "        vertical-align: middle;\n",
       "    }\n",
       "\n",
       "    .dataframe tbody tr th {\n",
       "        vertical-align: top;\n",
       "    }\n",
       "\n",
       "    .dataframe thead th {\n",
       "        text-align: right;\n",
       "    }\n",
       "</style>\n",
       "<table border=\"1\" class=\"dataframe\">\n",
       "  <thead>\n",
       "    <tr style=\"text-align: right;\">\n",
       "      <th></th>\n",
       "      <th>date</th>\n",
       "      <th>meantemp</th>\n",
       "      <th>humidity</th>\n",
       "      <th>wind_speed</th>\n",
       "      <th>meanpressure</th>\n",
       "      <th>ma_7</th>\n",
       "      <th>std_7</th>\n",
       "      <th>roc_1</th>\n",
       "    </tr>\n",
       "  </thead>\n",
       "  <tbody>\n",
       "    <tr>\n",
       "      <th>0</th>\n",
       "      <td>2013-01-01</td>\n",
       "      <td>10.000000</td>\n",
       "      <td>84.500000</td>\n",
       "      <td>0.000000</td>\n",
       "      <td>1015.666667</td>\n",
       "      <td>7.604762</td>\n",
       "      <td>1.316903</td>\n",
       "      <td>-0.260000</td>\n",
       "    </tr>\n",
       "    <tr>\n",
       "      <th>1</th>\n",
       "      <td>2013-01-02</td>\n",
       "      <td>7.400000</td>\n",
       "      <td>92.000000</td>\n",
       "      <td>2.980000</td>\n",
       "      <td>1017.800000</td>\n",
       "      <td>7.604762</td>\n",
       "      <td>1.316903</td>\n",
       "      <td>-0.260000</td>\n",
       "    </tr>\n",
       "    <tr>\n",
       "      <th>2</th>\n",
       "      <td>2013-01-03</td>\n",
       "      <td>7.166667</td>\n",
       "      <td>87.000000</td>\n",
       "      <td>4.633333</td>\n",
       "      <td>1018.666667</td>\n",
       "      <td>7.604762</td>\n",
       "      <td>1.316903</td>\n",
       "      <td>-0.031532</td>\n",
       "    </tr>\n",
       "    <tr>\n",
       "      <th>3</th>\n",
       "      <td>2013-01-04</td>\n",
       "      <td>8.666667</td>\n",
       "      <td>71.333333</td>\n",
       "      <td>1.233333</td>\n",
       "      <td>1017.166667</td>\n",
       "      <td>7.604762</td>\n",
       "      <td>1.316903</td>\n",
       "      <td>0.209302</td>\n",
       "    </tr>\n",
       "    <tr>\n",
       "      <th>4</th>\n",
       "      <td>2013-01-05</td>\n",
       "      <td>6.000000</td>\n",
       "      <td>86.833333</td>\n",
       "      <td>3.700000</td>\n",
       "      <td>1016.500000</td>\n",
       "      <td>7.604762</td>\n",
       "      <td>1.316903</td>\n",
       "      <td>-0.307692</td>\n",
       "    </tr>\n",
       "    <tr>\n",
       "      <th>...</th>\n",
       "      <td>...</td>\n",
       "      <td>...</td>\n",
       "      <td>...</td>\n",
       "      <td>...</td>\n",
       "      <td>...</td>\n",
       "      <td>...</td>\n",
       "      <td>...</td>\n",
       "      <td>...</td>\n",
       "    </tr>\n",
       "    <tr>\n",
       "      <th>1571</th>\n",
       "      <td>2017-04-20</td>\n",
       "      <td>34.500000</td>\n",
       "      <td>27.500000</td>\n",
       "      <td>5.562500</td>\n",
       "      <td>998.625000</td>\n",
       "      <td>32.468254</td>\n",
       "      <td>1.587910</td>\n",
       "      <td>0.029851</td>\n",
       "    </tr>\n",
       "    <tr>\n",
       "      <th>1572</th>\n",
       "      <td>2017-04-21</td>\n",
       "      <td>34.250000</td>\n",
       "      <td>39.375000</td>\n",
       "      <td>6.962500</td>\n",
       "      <td>999.875000</td>\n",
       "      <td>33.003968</td>\n",
       "      <td>1.438773</td>\n",
       "      <td>-0.007246</td>\n",
       "    </tr>\n",
       "    <tr>\n",
       "      <th>1573</th>\n",
       "      <td>2017-04-22</td>\n",
       "      <td>32.900000</td>\n",
       "      <td>40.900000</td>\n",
       "      <td>8.890000</td>\n",
       "      <td>1001.600000</td>\n",
       "      <td>33.243651</td>\n",
       "      <td>1.214803</td>\n",
       "      <td>-0.039416</td>\n",
       "    </tr>\n",
       "    <tr>\n",
       "      <th>1574</th>\n",
       "      <td>2017-04-23</td>\n",
       "      <td>32.875000</td>\n",
       "      <td>27.500000</td>\n",
       "      <td>9.962500</td>\n",
       "      <td>1002.125000</td>\n",
       "      <td>33.511508</td>\n",
       "      <td>0.758746</td>\n",
       "      <td>-0.000760</td>\n",
       "    </tr>\n",
       "    <tr>\n",
       "      <th>1575</th>\n",
       "      <td>2017-04-24</td>\n",
       "      <td>32.000000</td>\n",
       "      <td>27.142857</td>\n",
       "      <td>12.157143</td>\n",
       "      <td>1004.142857</td>\n",
       "      <td>33.432143</td>\n",
       "      <td>0.892645</td>\n",
       "      <td>-0.026616</td>\n",
       "    </tr>\n",
       "  </tbody>\n",
       "</table>\n",
       "<p>1571 rows × 8 columns</p>\n",
       "</div>"
      ],
      "text/plain": [
       "            date   meantemp   humidity  wind_speed  meanpressure       ma_7  \\\n",
       "0     2013-01-01  10.000000  84.500000    0.000000   1015.666667   7.604762   \n",
       "1     2013-01-02   7.400000  92.000000    2.980000   1017.800000   7.604762   \n",
       "2     2013-01-03   7.166667  87.000000    4.633333   1018.666667   7.604762   \n",
       "3     2013-01-04   8.666667  71.333333    1.233333   1017.166667   7.604762   \n",
       "4     2013-01-05   6.000000  86.833333    3.700000   1016.500000   7.604762   \n",
       "...          ...        ...        ...         ...           ...        ...   \n",
       "1571  2017-04-20  34.500000  27.500000    5.562500    998.625000  32.468254   \n",
       "1572  2017-04-21  34.250000  39.375000    6.962500    999.875000  33.003968   \n",
       "1573  2017-04-22  32.900000  40.900000    8.890000   1001.600000  33.243651   \n",
       "1574  2017-04-23  32.875000  27.500000    9.962500   1002.125000  33.511508   \n",
       "1575  2017-04-24  32.000000  27.142857   12.157143   1004.142857  33.432143   \n",
       "\n",
       "         std_7     roc_1  \n",
       "0     1.316903 -0.260000  \n",
       "1     1.316903 -0.260000  \n",
       "2     1.316903 -0.031532  \n",
       "3     1.316903  0.209302  \n",
       "4     1.316903 -0.307692  \n",
       "...        ...       ...  \n",
       "1571  1.587910  0.029851  \n",
       "1572  1.438773 -0.007246  \n",
       "1573  1.214803 -0.039416  \n",
       "1574  0.758746 -0.000760  \n",
       "1575  0.892645 -0.026616  \n",
       "\n",
       "[1571 rows x 8 columns]"
      ]
     },
     "execution_count": 31,
     "metadata": {},
     "output_type": "execute_result"
    }
   ],
   "source": [
    "df_p"
   ]
  },
  {
   "cell_type": "code",
   "execution_count": 32,
   "id": "f2f0da20-9804-49b7-a353-d2d393a21ed0",
   "metadata": {
    "scrolled": true
   },
   "outputs": [],
   "source": [
    "past_cov = fill_missing_values(\n",
    "    TimeSeries.from_dataframe(\n",
    "    df_p,\n",
    "    time_col=\"date\",\n",
    "    value_cols=[\"humidity\",\"wind_speed\",\"meanpressure\", \"ma_7\", \"std_7\", \"roc_1\"],\n",
    "    #fill_missing_dates=True,\n",
    "    freq=\"d\"),fill = 'auto')"
   ]
  },
  {
   "cell_type": "code",
   "execution_count": 33,
   "id": "12850ea2-a217-4099-bd17-ce3b00e2e750",
   "metadata": {},
   "outputs": [],
   "source": [
    "past_cov = past_cov.astype(np.float32)"
   ]
  },
  {
   "cell_type": "code",
   "execution_count": 34,
   "id": "13fa2778-6f7a-47de-b1f6-2ac9d29bed9a",
   "metadata": {},
   "outputs": [
    {
     "data": {
      "text/plain": [
       "humidity        0\n",
       "wind_speed      0\n",
       "meanpressure    0\n",
       "ma_7            0\n",
       "std_7           0\n",
       "roc_1           0\n",
       "dtype: int64"
      ]
     },
     "execution_count": 34,
     "metadata": {},
     "output_type": "execute_result"
    }
   ],
   "source": [
    "past_cov.to_dataframe().isna().sum()  # بررسی NaN"
   ]
  },
  {
   "cell_type": "code",
   "execution_count": 35,
   "id": "c2df2189-1ba8-463d-9b77-0d86e5b654bb",
   "metadata": {},
   "outputs": [
    {
     "data": {
      "text/plain": [
       "humidity        0\n",
       "wind_speed      0\n",
       "meanpressure    0\n",
       "ma_7            0\n",
       "std_7           0\n",
       "roc_1           0\n",
       "dtype: int64"
      ]
     },
     "execution_count": 35,
     "metadata": {},
     "output_type": "execute_result"
    }
   ],
   "source": [
    "past_cov.to_dataframe().isin([np.inf, -np.inf]).sum()  # بررسی inf"
   ]
  },
  {
   "cell_type": "code",
   "execution_count": 36,
   "id": "1792f731-1722-4d85-83be-4ea03f97ff06",
   "metadata": {
    "scrolled": true
   },
   "outputs": [
    {
     "data": {
      "text/html": [
       "<div><svg style=\"position: absolute; width: 0; height: 0; overflow: hidden\">\n",
       "<defs>\n",
       "<symbol id=\"icon-database\" viewBox=\"0 0 32 32\">\n",
       "<path d=\"M16 0c-8.837 0-16 2.239-16 5v4c0 2.761 7.163 5 16 5s16-2.239 16-5v-4c0-2.761-7.163-5-16-5z\"></path>\n",
       "<path d=\"M16 17c-8.837 0-16-2.239-16-5v6c0 2.761 7.163 5 16 5s16-2.239 16-5v-6c0 2.761-7.163 5-16 5z\"></path>\n",
       "<path d=\"M16 26c-8.837 0-16-2.239-16-5v6c0 2.761 7.163 5 16 5s16-2.239 16-5v-6c0 2.761-7.163 5-16 5z\"></path>\n",
       "</symbol>\n",
       "<symbol id=\"icon-file-text2\" viewBox=\"0 0 32 32\">\n",
       "<path d=\"M28.681 7.159c-0.694-0.947-1.662-2.053-2.724-3.116s-2.169-2.030-3.116-2.724c-1.612-1.182-2.393-1.319-2.841-1.319h-15.5c-1.378 0-2.5 1.121-2.5 2.5v27c0 1.378 1.122 2.5 2.5 2.5h23c1.378 0 2.5-1.122 2.5-2.5v-19.5c0-0.448-0.137-1.23-1.319-2.841zM24.543 5.457c0.959 0.959 1.712 1.825 2.268 2.543h-4.811v-4.811c0.718 0.556 1.584 1.309 2.543 2.268zM28 29.5c0 0.271-0.229 0.5-0.5 0.5h-23c-0.271 0-0.5-0.229-0.5-0.5v-27c0-0.271 0.229-0.5 0.5-0.5 0 0 15.499-0 15.5 0v7c0 0.552 0.448 1 1 1h7v19.5z\"></path>\n",
       "<path d=\"M23 26h-14c-0.552 0-1-0.448-1-1s0.448-1 1-1h14c0.552 0 1 0.448 1 1s-0.448 1-1 1z\"></path>\n",
       "<path d=\"M23 22h-14c-0.552 0-1-0.448-1-1s0.448-1 1-1h14c0.552 0 1 0.448 1 1s-0.448 1-1 1z\"></path>\n",
       "<path d=\"M23 18h-14c-0.552 0-1-0.448-1-1s0.448-1 1-1h14c0.552 0 1 0.448 1 1s-0.448 1-1 1z\"></path>\n",
       "</symbol>\n",
       "</defs>\n",
       "</svg>\n",
       "<style>/* CSS stylesheet for displaying xarray objects in jupyterlab.\n",
       " *\n",
       " */\n",
       "\n",
       ":root {\n",
       "  --xr-font-color0: var(--jp-content-font-color0, rgba(0, 0, 0, 1));\n",
       "  --xr-font-color2: var(--jp-content-font-color2, rgba(0, 0, 0, 0.54));\n",
       "  --xr-font-color3: var(--jp-content-font-color3, rgba(0, 0, 0, 0.38));\n",
       "  --xr-border-color: var(--jp-border-color2, #e0e0e0);\n",
       "  --xr-disabled-color: var(--jp-layout-color3, #bdbdbd);\n",
       "  --xr-background-color: var(--jp-layout-color0, white);\n",
       "  --xr-background-color-row-even: var(--jp-layout-color1, white);\n",
       "  --xr-background-color-row-odd: var(--jp-layout-color2, #eeeeee);\n",
       "}\n",
       "\n",
       "html[theme=dark],\n",
       "html[data-theme=dark],\n",
       "body[data-theme=dark],\n",
       "body.vscode-dark {\n",
       "  --xr-font-color0: rgba(255, 255, 255, 1);\n",
       "  --xr-font-color2: rgba(255, 255, 255, 0.54);\n",
       "  --xr-font-color3: rgba(255, 255, 255, 0.38);\n",
       "  --xr-border-color: #1F1F1F;\n",
       "  --xr-disabled-color: #515151;\n",
       "  --xr-background-color: #111111;\n",
       "  --xr-background-color-row-even: #111111;\n",
       "  --xr-background-color-row-odd: #313131;\n",
       "}\n",
       "\n",
       ".xr-wrap {\n",
       "  display: block !important;\n",
       "  min-width: 300px;\n",
       "  max-width: 700px;\n",
       "}\n",
       "\n",
       ".xr-text-repr-fallback {\n",
       "  /* fallback to plain text repr when CSS is not injected (untrusted notebook) */\n",
       "  display: none;\n",
       "}\n",
       "\n",
       ".xr-header {\n",
       "  padding-top: 6px;\n",
       "  padding-bottom: 6px;\n",
       "  margin-bottom: 4px;\n",
       "  border-bottom: solid 1px var(--xr-border-color);\n",
       "}\n",
       "\n",
       ".xr-header > div,\n",
       ".xr-header > ul {\n",
       "  display: inline;\n",
       "  margin-top: 0;\n",
       "  margin-bottom: 0;\n",
       "}\n",
       "\n",
       ".xr-obj-type,\n",
       ".xr-array-name {\n",
       "  margin-left: 2px;\n",
       "  margin-right: 10px;\n",
       "}\n",
       "\n",
       ".xr-obj-type {\n",
       "  color: var(--xr-font-color2);\n",
       "}\n",
       "\n",
       ".xr-sections {\n",
       "  padding-left: 0 !important;\n",
       "  display: grid;\n",
       "  grid-template-columns: 150px auto auto 1fr 20px 20px;\n",
       "}\n",
       "\n",
       ".xr-section-item {\n",
       "  display: contents;\n",
       "}\n",
       "\n",
       ".xr-section-item input {\n",
       "  display: none;\n",
       "}\n",
       "\n",
       ".xr-section-item input + label {\n",
       "  color: var(--xr-disabled-color);\n",
       "}\n",
       "\n",
       ".xr-section-item input:enabled + label {\n",
       "  cursor: pointer;\n",
       "  color: var(--xr-font-color2);\n",
       "}\n",
       "\n",
       ".xr-section-item input:enabled + label:hover {\n",
       "  color: var(--xr-font-color0);\n",
       "}\n",
       "\n",
       ".xr-section-summary {\n",
       "  grid-column: 1;\n",
       "  color: var(--xr-font-color2);\n",
       "  font-weight: 500;\n",
       "}\n",
       "\n",
       ".xr-section-summary > span {\n",
       "  display: inline-block;\n",
       "  padding-left: 0.5em;\n",
       "}\n",
       "\n",
       ".xr-section-summary-in:disabled + label {\n",
       "  color: var(--xr-font-color2);\n",
       "}\n",
       "\n",
       ".xr-section-summary-in + label:before {\n",
       "  display: inline-block;\n",
       "  content: '►';\n",
       "  font-size: 11px;\n",
       "  width: 15px;\n",
       "  text-align: center;\n",
       "}\n",
       "\n",
       ".xr-section-summary-in:disabled + label:before {\n",
       "  color: var(--xr-disabled-color);\n",
       "}\n",
       "\n",
       ".xr-section-summary-in:checked + label:before {\n",
       "  content: '▼';\n",
       "}\n",
       "\n",
       ".xr-section-summary-in:checked + label > span {\n",
       "  display: none;\n",
       "}\n",
       "\n",
       ".xr-section-summary,\n",
       ".xr-section-inline-details {\n",
       "  padding-top: 4px;\n",
       "  padding-bottom: 4px;\n",
       "}\n",
       "\n",
       ".xr-section-inline-details {\n",
       "  grid-column: 2 / -1;\n",
       "}\n",
       "\n",
       ".xr-section-details {\n",
       "  display: none;\n",
       "  grid-column: 1 / -1;\n",
       "  margin-bottom: 5px;\n",
       "}\n",
       "\n",
       ".xr-section-summary-in:checked ~ .xr-section-details {\n",
       "  display: contents;\n",
       "}\n",
       "\n",
       ".xr-array-wrap {\n",
       "  grid-column: 1 / -1;\n",
       "  display: grid;\n",
       "  grid-template-columns: 20px auto;\n",
       "}\n",
       "\n",
       ".xr-array-wrap > label {\n",
       "  grid-column: 1;\n",
       "  vertical-align: top;\n",
       "}\n",
       "\n",
       ".xr-preview {\n",
       "  color: var(--xr-font-color3);\n",
       "}\n",
       "\n",
       ".xr-array-preview,\n",
       ".xr-array-data {\n",
       "  padding: 0 5px !important;\n",
       "  grid-column: 2;\n",
       "}\n",
       "\n",
       ".xr-array-data,\n",
       ".xr-array-in:checked ~ .xr-array-preview {\n",
       "  display: none;\n",
       "}\n",
       "\n",
       ".xr-array-in:checked ~ .xr-array-data,\n",
       ".xr-array-preview {\n",
       "  display: inline-block;\n",
       "}\n",
       "\n",
       ".xr-dim-list {\n",
       "  display: inline-block !important;\n",
       "  list-style: none;\n",
       "  padding: 0 !important;\n",
       "  margin: 0;\n",
       "}\n",
       "\n",
       ".xr-dim-list li {\n",
       "  display: inline-block;\n",
       "  padding: 0;\n",
       "  margin: 0;\n",
       "}\n",
       "\n",
       ".xr-dim-list:before {\n",
       "  content: '(';\n",
       "}\n",
       "\n",
       ".xr-dim-list:after {\n",
       "  content: ')';\n",
       "}\n",
       "\n",
       ".xr-dim-list li:not(:last-child):after {\n",
       "  content: ',';\n",
       "  padding-right: 5px;\n",
       "}\n",
       "\n",
       ".xr-has-index {\n",
       "  font-weight: bold;\n",
       "}\n",
       "\n",
       ".xr-var-list,\n",
       ".xr-var-item {\n",
       "  display: contents;\n",
       "}\n",
       "\n",
       ".xr-var-item > div,\n",
       ".xr-var-item label,\n",
       ".xr-var-item > .xr-var-name span {\n",
       "  background-color: var(--xr-background-color-row-even);\n",
       "  margin-bottom: 0;\n",
       "}\n",
       "\n",
       ".xr-var-item > .xr-var-name:hover span {\n",
       "  padding-right: 5px;\n",
       "}\n",
       "\n",
       ".xr-var-list > li:nth-child(odd) > div,\n",
       ".xr-var-list > li:nth-child(odd) > label,\n",
       ".xr-var-list > li:nth-child(odd) > .xr-var-name span {\n",
       "  background-color: var(--xr-background-color-row-odd);\n",
       "}\n",
       "\n",
       ".xr-var-name {\n",
       "  grid-column: 1;\n",
       "}\n",
       "\n",
       ".xr-var-dims {\n",
       "  grid-column: 2;\n",
       "}\n",
       "\n",
       ".xr-var-dtype {\n",
       "  grid-column: 3;\n",
       "  text-align: right;\n",
       "  color: var(--xr-font-color2);\n",
       "}\n",
       "\n",
       ".xr-var-preview {\n",
       "  grid-column: 4;\n",
       "}\n",
       "\n",
       ".xr-index-preview {\n",
       "  grid-column: 2 / 5;\n",
       "  color: var(--xr-font-color2);\n",
       "}\n",
       "\n",
       ".xr-var-name,\n",
       ".xr-var-dims,\n",
       ".xr-var-dtype,\n",
       ".xr-preview,\n",
       ".xr-attrs dt {\n",
       "  white-space: nowrap;\n",
       "  overflow: hidden;\n",
       "  text-overflow: ellipsis;\n",
       "  padding-right: 10px;\n",
       "}\n",
       "\n",
       ".xr-var-name:hover,\n",
       ".xr-var-dims:hover,\n",
       ".xr-var-dtype:hover,\n",
       ".xr-attrs dt:hover {\n",
       "  overflow: visible;\n",
       "  width: auto;\n",
       "  z-index: 1;\n",
       "}\n",
       "\n",
       ".xr-var-attrs,\n",
       ".xr-var-data,\n",
       ".xr-index-data {\n",
       "  display: none;\n",
       "  background-color: var(--xr-background-color) !important;\n",
       "  padding-bottom: 5px !important;\n",
       "}\n",
       "\n",
       ".xr-var-attrs-in:checked ~ .xr-var-attrs,\n",
       ".xr-var-data-in:checked ~ .xr-var-data,\n",
       ".xr-index-data-in:checked ~ .xr-index-data {\n",
       "  display: block;\n",
       "}\n",
       "\n",
       ".xr-var-data > table {\n",
       "  float: right;\n",
       "}\n",
       "\n",
       ".xr-var-name span,\n",
       ".xr-var-data,\n",
       ".xr-index-name div,\n",
       ".xr-index-data,\n",
       ".xr-attrs {\n",
       "  padding-left: 25px !important;\n",
       "}\n",
       "\n",
       ".xr-attrs,\n",
       ".xr-var-attrs,\n",
       ".xr-var-data,\n",
       ".xr-index-data {\n",
       "  grid-column: 1 / -1;\n",
       "}\n",
       "\n",
       "dl.xr-attrs {\n",
       "  padding: 0;\n",
       "  margin: 0;\n",
       "  display: grid;\n",
       "  grid-template-columns: 125px auto;\n",
       "}\n",
       "\n",
       ".xr-attrs dt,\n",
       ".xr-attrs dd {\n",
       "  padding: 0;\n",
       "  margin: 0;\n",
       "  float: left;\n",
       "  padding-right: 10px;\n",
       "  width: auto;\n",
       "}\n",
       "\n",
       ".xr-attrs dt {\n",
       "  font-weight: normal;\n",
       "  grid-column: 1;\n",
       "}\n",
       "\n",
       ".xr-attrs dt:hover span {\n",
       "  display: inline-block;\n",
       "  background: var(--xr-background-color);\n",
       "  padding-right: 10px;\n",
       "}\n",
       "\n",
       ".xr-attrs dd {\n",
       "  grid-column: 2;\n",
       "  white-space: pre-wrap;\n",
       "  word-break: break-all;\n",
       "}\n",
       "\n",
       ".xr-icon-database,\n",
       ".xr-icon-file-text2,\n",
       ".xr-no-icon {\n",
       "  display: inline-block;\n",
       "  vertical-align: middle;\n",
       "  width: 1em;\n",
       "  height: 1.5em !important;\n",
       "  stroke-width: 0;\n",
       "  stroke: currentColor;\n",
       "  fill: currentColor;\n",
       "}\n",
       "</style><pre class='xr-text-repr-fallback'>&lt;TimeSeries (date: 1575, component: 6, sample: 1)&gt; Size: 38kB\n",
       "array([[[ 8.4500000e+01],\n",
       "        [ 0.0000000e+00],\n",
       "        [ 1.0156667e+03],\n",
       "        [ 7.6047621e+00],\n",
       "        [ 1.3169028e+00],\n",
       "        [-2.5999999e-01]],\n",
       "\n",
       "       [[ 9.2000000e+01],\n",
       "        [ 2.9800000e+00],\n",
       "        [ 1.0178000e+03],\n",
       "        [ 7.6047621e+00],\n",
       "        [ 1.3169028e+00],\n",
       "        [-2.5999999e-01]],\n",
       "\n",
       "       [[ 8.7000000e+01],\n",
       "        [ 4.6333332e+00],\n",
       "        [ 1.0186667e+03],\n",
       "        [ 7.6047621e+00],\n",
       "        [ 1.3169028e+00],\n",
       "        [-3.1531531e-02]],\n",
       "...\n",
       "       [[ 4.0900002e+01],\n",
       "        [ 8.8900003e+00],\n",
       "        [ 1.0016000e+03],\n",
       "        [ 3.3243652e+01],\n",
       "        [ 1.2148025e+00],\n",
       "        [-3.9416060e-02]],\n",
       "\n",
       "       [[ 2.7500000e+01],\n",
       "        [ 9.9624996e+00],\n",
       "        [ 1.0021250e+03],\n",
       "        [ 3.3511509e+01],\n",
       "        [ 7.5874603e-01],\n",
       "        [-7.5987843e-04]],\n",
       "\n",
       "       [[ 2.7142857e+01],\n",
       "        [ 1.2157143e+01],\n",
       "        [ 1.0041429e+03],\n",
       "        [ 3.3432144e+01],\n",
       "        [ 8.9264524e-01],\n",
       "        [-2.6615970e-02]]], dtype=float32)\n",
       "Coordinates:\n",
       "  * date       (date) datetime64[ns] 13kB 2013-01-01 2013-01-02 ... 2017-04-24\n",
       "  * component  (component) object 48B &#x27;humidity&#x27; &#x27;wind_speed&#x27; ... &#x27;roc_1&#x27;\n",
       "Dimensions without coordinates: sample\n",
       "Attributes:\n",
       "    static_covariates:  None\n",
       "    hierarchy:          None\n",
       "    metadata:           None</pre><div class='xr-wrap' style='display:none'><div class='xr-header'><div class='xr-obj-type'>TimeSeries</div><div class='xr-array-name'></div><ul class='xr-dim-list'><li><span class='xr-has-index'>date</span>: 1575</li><li><span class='xr-has-index'>component</span>: 6</li><li><span>sample</span>: 1</li></ul></div><ul class='xr-sections'><li class='xr-section-item'><div class='xr-array-wrap'><input id='section-a79c1156-1514-420b-a70f-4ffe781dee53' class='xr-array-in' type='checkbox' checked><label for='section-a79c1156-1514-420b-a70f-4ffe781dee53' title='Show/hide data repr'><svg class='icon xr-icon-database'><use xlink:href='#icon-database'></use></svg></label><div class='xr-array-preview xr-preview'><span>84.5 0.0 1.016e+03 7.605 1.317 ... 1.004e+03 33.43 0.8926 -0.02662</span></div><div class='xr-array-data'><pre>array([[[ 8.4500000e+01],\n",
       "        [ 0.0000000e+00],\n",
       "        [ 1.0156667e+03],\n",
       "        [ 7.6047621e+00],\n",
       "        [ 1.3169028e+00],\n",
       "        [-2.5999999e-01]],\n",
       "\n",
       "       [[ 9.2000000e+01],\n",
       "        [ 2.9800000e+00],\n",
       "        [ 1.0178000e+03],\n",
       "        [ 7.6047621e+00],\n",
       "        [ 1.3169028e+00],\n",
       "        [-2.5999999e-01]],\n",
       "\n",
       "       [[ 8.7000000e+01],\n",
       "        [ 4.6333332e+00],\n",
       "        [ 1.0186667e+03],\n",
       "        [ 7.6047621e+00],\n",
       "        [ 1.3169028e+00],\n",
       "        [-3.1531531e-02]],\n",
       "...\n",
       "       [[ 4.0900002e+01],\n",
       "        [ 8.8900003e+00],\n",
       "        [ 1.0016000e+03],\n",
       "        [ 3.3243652e+01],\n",
       "        [ 1.2148025e+00],\n",
       "        [-3.9416060e-02]],\n",
       "\n",
       "       [[ 2.7500000e+01],\n",
       "        [ 9.9624996e+00],\n",
       "        [ 1.0021250e+03],\n",
       "        [ 3.3511509e+01],\n",
       "        [ 7.5874603e-01],\n",
       "        [-7.5987843e-04]],\n",
       "\n",
       "       [[ 2.7142857e+01],\n",
       "        [ 1.2157143e+01],\n",
       "        [ 1.0041429e+03],\n",
       "        [ 3.3432144e+01],\n",
       "        [ 8.9264524e-01],\n",
       "        [-2.6615970e-02]]], dtype=float32)</pre></div></div></li><li class='xr-section-item'><input id='section-fbacd643-f3d1-4f9b-a7d2-91609a1175e1' class='xr-section-summary-in' type='checkbox'  checked><label for='section-fbacd643-f3d1-4f9b-a7d2-91609a1175e1' class='xr-section-summary' >Coordinates: <span>(2)</span></label><div class='xr-section-inline-details'></div><div class='xr-section-details'><ul class='xr-var-list'><li class='xr-var-item'><div class='xr-var-name'><span class='xr-has-index'>date</span></div><div class='xr-var-dims'>(date)</div><div class='xr-var-dtype'>datetime64[ns]</div><div class='xr-var-preview xr-preview'>2013-01-01 ... 2017-04-24</div><input id='attrs-e5033e15-11d6-4c90-b6b1-83b890a28381' class='xr-var-attrs-in' type='checkbox' disabled><label for='attrs-e5033e15-11d6-4c90-b6b1-83b890a28381' title='Show/Hide attributes'><svg class='icon xr-icon-file-text2'><use xlink:href='#icon-file-text2'></use></svg></label><input id='data-10d2f5ca-007e-47e4-b35d-8fdd4d61484d' class='xr-var-data-in' type='checkbox'><label for='data-10d2f5ca-007e-47e4-b35d-8fdd4d61484d' title='Show/Hide data repr'><svg class='icon xr-icon-database'><use xlink:href='#icon-database'></use></svg></label><div class='xr-var-attrs'><dl class='xr-attrs'></dl></div><div class='xr-var-data'><pre>array([&#x27;2013-01-01T00:00:00.000000000&#x27;, &#x27;2013-01-02T00:00:00.000000000&#x27;,\n",
       "       &#x27;2013-01-03T00:00:00.000000000&#x27;, ..., &#x27;2017-04-22T00:00:00.000000000&#x27;,\n",
       "       &#x27;2017-04-23T00:00:00.000000000&#x27;, &#x27;2017-04-24T00:00:00.000000000&#x27;],\n",
       "      dtype=&#x27;datetime64[ns]&#x27;)</pre></div></li><li class='xr-var-item'><div class='xr-var-name'><span class='xr-has-index'>component</span></div><div class='xr-var-dims'>(component)</div><div class='xr-var-dtype'>object</div><div class='xr-var-preview xr-preview'>&#x27;humidity&#x27; &#x27;wind_speed&#x27; ... &#x27;roc_1&#x27;</div><input id='attrs-dd086a8c-613b-41c2-9b65-b7c2dabf91c4' class='xr-var-attrs-in' type='checkbox' disabled><label for='attrs-dd086a8c-613b-41c2-9b65-b7c2dabf91c4' title='Show/Hide attributes'><svg class='icon xr-icon-file-text2'><use xlink:href='#icon-file-text2'></use></svg></label><input id='data-a4a75375-e9a3-4dd6-aef4-634600ef6c19' class='xr-var-data-in' type='checkbox'><label for='data-a4a75375-e9a3-4dd6-aef4-634600ef6c19' title='Show/Hide data repr'><svg class='icon xr-icon-database'><use xlink:href='#icon-database'></use></svg></label><div class='xr-var-attrs'><dl class='xr-attrs'></dl></div><div class='xr-var-data'><pre>array([&#x27;humidity&#x27;, &#x27;wind_speed&#x27;, &#x27;meanpressure&#x27;, &#x27;ma_7&#x27;, &#x27;std_7&#x27;, &#x27;roc_1&#x27;],\n",
       "      dtype=object)</pre></div></li></ul></div></li><li class='xr-section-item'><input id='section-594382ab-dbea-45be-996b-42e8075e2782' class='xr-section-summary-in' type='checkbox'  ><label for='section-594382ab-dbea-45be-996b-42e8075e2782' class='xr-section-summary' >Indexes: <span>(2)</span></label><div class='xr-section-inline-details'></div><div class='xr-section-details'><ul class='xr-var-list'><li class='xr-var-item'><div class='xr-index-name'><div>date</div></div><div class='xr-index-preview'>PandasIndex</div><div></div><input id='index-734d783c-b185-41b4-a1e5-09d1c00b80d1' class='xr-index-data-in' type='checkbox'/><label for='index-734d783c-b185-41b4-a1e5-09d1c00b80d1' title='Show/Hide index repr'><svg class='icon xr-icon-database'><use xlink:href='#icon-database'></use></svg></label><div class='xr-index-data'><pre>PandasIndex(DatetimeIndex([&#x27;2013-01-01&#x27;, &#x27;2013-01-02&#x27;, &#x27;2013-01-03&#x27;, &#x27;2013-01-04&#x27;,\n",
       "               &#x27;2013-01-05&#x27;, &#x27;2013-01-06&#x27;, &#x27;2013-01-07&#x27;, &#x27;2013-01-08&#x27;,\n",
       "               &#x27;2013-01-09&#x27;, &#x27;2013-01-10&#x27;,\n",
       "               ...\n",
       "               &#x27;2017-04-15&#x27;, &#x27;2017-04-16&#x27;, &#x27;2017-04-17&#x27;, &#x27;2017-04-18&#x27;,\n",
       "               &#x27;2017-04-19&#x27;, &#x27;2017-04-20&#x27;, &#x27;2017-04-21&#x27;, &#x27;2017-04-22&#x27;,\n",
       "               &#x27;2017-04-23&#x27;, &#x27;2017-04-24&#x27;],\n",
       "              dtype=&#x27;datetime64[ns]&#x27;, name=&#x27;date&#x27;, length=1575, freq=&#x27;D&#x27;))</pre></div></li><li class='xr-var-item'><div class='xr-index-name'><div>component</div></div><div class='xr-index-preview'>PandasIndex</div><div></div><input id='index-17881887-8348-4579-b86c-c850a98e6cee' class='xr-index-data-in' type='checkbox'/><label for='index-17881887-8348-4579-b86c-c850a98e6cee' title='Show/Hide index repr'><svg class='icon xr-icon-database'><use xlink:href='#icon-database'></use></svg></label><div class='xr-index-data'><pre>PandasIndex(Index([&#x27;humidity&#x27;, &#x27;wind_speed&#x27;, &#x27;meanpressure&#x27;, &#x27;ma_7&#x27;, &#x27;std_7&#x27;, &#x27;roc_1&#x27;], dtype=&#x27;object&#x27;, name=&#x27;component&#x27;))</pre></div></li></ul></div></li><li class='xr-section-item'><input id='section-a12db5e9-d2ed-4a94-88a6-2ffdef8a2c21' class='xr-section-summary-in' type='checkbox'  checked><label for='section-a12db5e9-d2ed-4a94-88a6-2ffdef8a2c21' class='xr-section-summary' >Attributes: <span>(3)</span></label><div class='xr-section-inline-details'></div><div class='xr-section-details'><dl class='xr-attrs'><dt><span>static_covariates :</span></dt><dd>None</dd><dt><span>hierarchy :</span></dt><dd>None</dd><dt><span>metadata :</span></dt><dd>None</dd></dl></div></li></ul></div></div>"
      ],
      "text/plain": [
       "<TimeSeries (date: 1575, component: 6, sample: 1)> Size: 38kB\n",
       "array([[[ 8.4500000e+01],\n",
       "        [ 0.0000000e+00],\n",
       "        [ 1.0156667e+03],\n",
       "        [ 7.6047621e+00],\n",
       "        [ 1.3169028e+00],\n",
       "        [-2.5999999e-01]],\n",
       "\n",
       "       [[ 9.2000000e+01],\n",
       "        [ 2.9800000e+00],\n",
       "        [ 1.0178000e+03],\n",
       "        [ 7.6047621e+00],\n",
       "        [ 1.3169028e+00],\n",
       "        [-2.5999999e-01]],\n",
       "\n",
       "       [[ 8.7000000e+01],\n",
       "        [ 4.6333332e+00],\n",
       "        [ 1.0186667e+03],\n",
       "        [ 7.6047621e+00],\n",
       "        [ 1.3169028e+00],\n",
       "        [-3.1531531e-02]],\n",
       "...\n",
       "       [[ 4.0900002e+01],\n",
       "        [ 8.8900003e+00],\n",
       "        [ 1.0016000e+03],\n",
       "        [ 3.3243652e+01],\n",
       "        [ 1.2148025e+00],\n",
       "        [-3.9416060e-02]],\n",
       "\n",
       "       [[ 2.7500000e+01],\n",
       "        [ 9.9624996e+00],\n",
       "        [ 1.0021250e+03],\n",
       "        [ 3.3511509e+01],\n",
       "        [ 7.5874603e-01],\n",
       "        [-7.5987843e-04]],\n",
       "\n",
       "       [[ 2.7142857e+01],\n",
       "        [ 1.2157143e+01],\n",
       "        [ 1.0041429e+03],\n",
       "        [ 3.3432144e+01],\n",
       "        [ 8.9264524e-01],\n",
       "        [-2.6615970e-02]]], dtype=float32)\n",
       "Coordinates:\n",
       "  * date       (date) datetime64[ns] 13kB 2013-01-01 2013-01-02 ... 2017-04-24\n",
       "  * component  (component) object 48B 'humidity' 'wind_speed' ... 'roc_1'\n",
       "Dimensions without coordinates: sample\n",
       "Attributes:\n",
       "    static_covariates:  None\n",
       "    hierarchy:          None\n",
       "    metadata:           None"
      ]
     },
     "execution_count": 36,
     "metadata": {},
     "output_type": "execute_result"
    }
   ],
   "source": [
    "past_cov"
   ]
  },
  {
   "cell_type": "code",
   "execution_count": null,
   "id": "7374dddb-85fc-4c43-b3c2-fe65474744f1",
   "metadata": {},
   "outputs": [],
   "source": [
    "scaler_cov = Scaler()\n",
    "# این کار اشتباهیه البته زیرا فقط روی ترین باید فیت بشه و بقیه فقط ترنسفورم بشن\n",
    "past_cov_scaled = scaler_cov.fit_transform(past_cov)"
   ]
  },
  {
   "cell_type": "code",
   "execution_count": 38,
   "id": "4d28812a-195a-4f0e-ad4e-e7b0b0462af0",
   "metadata": {},
   "outputs": [],
   "source": [
    "train_cov_pc, val_test_cov_pc = past_cov_scaled.split_after(0.7)\n",
    "val_cov_pc, test_cov_pc = val_test_cov_pc.split_after(0.5)"
   ]
  },
  {
   "cell_type": "markdown",
   "id": "57990c77-c5e7-49b5-b941-6f7d19eccfb2",
   "metadata": {},
   "source": [
    "## future covariation"
   ]
  },
  {
   "cell_type": "code",
   "execution_count": 40,
   "id": "7adcf3f8-1f3c-4c8c-bf4a-8ba0b0d0acd1",
   "metadata": {
    "scrolled": true
   },
   "outputs": [],
   "source": [
    "# ایجاد هر ویژگی به‌صورت جداگانه\n",
    "feat_day = datetime_attribute_timeseries(df_ts_daily_transform, attribute=\"day\", one_hot=True,dtype=np.float32)\n",
    "feat_month = datetime_attribute_timeseries(df_ts_daily_transform, attribute=\"month\", one_hot=True,dtype=np.float32)\n",
    "feat_weekday = datetime_attribute_timeseries(df_ts_daily_transform, attribute=\"weekday\", one_hot=True,dtype=np.float32)\n",
    "\n",
    "# ترکیب ویژگی‌ها\n",
    "time_feat = concatenate([feat_day, feat_month, feat_weekday], axis=1)"
   ]
  },
  {
   "cell_type": "code",
   "execution_count": 41,
   "id": "5cf3c869-5240-4976-96be-e1ff544b1072",
   "metadata": {},
   "outputs": [],
   "source": [
    "scaler_ts = Scaler()\n",
    "time_feat_transform = scaler_ts.fit_transform(time_feat)\n",
    "train_cov_tf , val_cov_test_tf = time_feat_transform.split_after(0.7)\n",
    "val_cov_tf, test_cov_tf = val_cov_test_tf.split_after(0.5)"
   ]
  },
  {
   "cell_type": "code",
   "execution_count": 42,
   "id": "a4e7bde2-ba38-41e2-a5df-3d6c29b71d89",
   "metadata": {},
   "outputs": [],
   "source": [
    "logger = CSVLogger(\"lightning_logs\", name=\"deepar_logs\")"
   ]
  },
  {
   "cell_type": "code",
   "execution_count": 43,
   "id": "31b95e25-88aa-4080-bbc8-70e50e8165c6",
   "metadata": {},
   "outputs": [],
   "source": [
    "callbacks = [\n",
    "    EarlyStopping(\n",
    "        monitor=\"val_loss\",       # پایش بر اساس val_loss برای جلوگیری از overfitting\n",
    "        patience=15,              # اگر بهبود نداشت تا ۱۰ epoch، متوقف شود\n",
    "        min_delta=0.1,\n",
    "        mode=\"min\"\n",
    "    ),\n",
    "    ModelCheckpoint(\n",
    "        monitor=\"val_loss\",       # ذخیره بهترین مدل بر اساس val_loss\n",
    "        save_top_k=1,\n",
    "        mode=\"min\",\n",
    "        filename=\"best-rnn-model\",\n",
    "        verbose=True\n",
    "    ),\n",
    "    LearningRateMonitor(logging_interval='epoch'),  # پایش و لاگ نرخ یادگیری\n",
    "    Timer(),                                         # زمان‌سنج برای آموزش\n",
    "    RichProgressBar()                               # نوار پیشرفت زیبا\n",
    "]\n"
   ]
  },
  {
   "cell_type": "code",
   "execution_count": 44,
   "id": "d0ded14b-99d3-4365-a8fd-297970015877",
   "metadata": {},
   "outputs": [],
   "source": [
    "model_deepar = RNNModel(\n",
    "    model=\"LSTM\",\n",
    "    input_chunk_length=30,\n",
    "    training_length=60,\n",
    "    hidden_dim=64,\n",
    "    n_rnn_layers=2,\n",
    "    dropout=0.2,\n",
    "    batch_size=32,\n",
    "    n_epochs=200, \n",
    "    likelihood=GaussianLikelihood(),\n",
    "    random_state=42,\n",
    "    model_name=\"rnn_deepar\",\n",
    "    force_reset=True,\n",
    "    save_checkpoints=False,\n",
    "    optimizer_kwargs={\"lr\": 5e-3},\n",
    "    lr_scheduler_cls=torch.optim.lr_scheduler.ReduceLROnPlateau,\n",
    "    lr_scheduler_kwargs={\n",
    "        \"mode\": \"min\",\n",
    "        \"factor\": 0.5,\n",
    "        \"patience\": 5\n",
    "    },\n",
    "    pl_trainer_kwargs={\n",
    "        \"accelerator\": \"gpu\" if torch.cuda.is_available() else \"cpu\",\n",
    "        \"enable_checkpointing\": True,\n",
    "        \"enable_progress_bar\": True,\n",
    "        \"callbacks\": callbacks,\n",
    "        \"logger\": True\n",
    "    }\n",
    ")"
   ]
  },
  {
   "cell_type": "code",
   "execution_count": 45,
   "id": "16e11026-63e9-4e87-9c82-24c15a3af48d",
   "metadata": {},
   "outputs": [],
   "source": [
    "torch.set_float32_matmul_precision('high')"
   ]
  },
  {
   "cell_type": "code",
   "execution_count": null,
   "id": "6fa59590-edcc-4668-b2a5-8fc8587417b0",
   "metadata": {},
   "outputs": [],
   "source": [
    "train_ts = train_ts.astype(np.float32)\n",
    "val_ts = val_ts.astype(np.float32)\n",
    "train_cov_pc = train_cov_pc.astype(np.float32)\n",
    "val_cov_pc = val_cov_pc.astype(np.float32)\n"
   ]
  },
  {
   "cell_type": "code",
   "execution_count": 46,
   "id": "fa311dd9-af4a-45bc-9a0b-6d47cf6755a2",
   "metadata": {
    "scrolled": true
   },
   "outputs": [
    {
     "name": "stderr",
     "output_type": "stream",
     "text": [
      "GPU available: True (cuda), used: True\n",
      "TPU available: False, using: 0 TPU cores\n",
      "HPU available: False, using: 0 HPUs\n",
      "LOCAL_RANK: 0 - CUDA_VISIBLE_DEVICES: [0]\n"
     ]
    },
    {
     "data": {
      "text/html": [
       "<pre style=\"white-space:pre;overflow-x:auto;line-height:normal;font-family:Menlo,'DejaVu Sans Mono',consolas,'Courier New',monospace\">┏━━━┳━━━━━━━━━━━━━━━━━┳━━━━━━━━━━━━━━━━━━┳━━━━━━━━┳━━━━━━━┓\n",
       "┃<span style=\"color: #800080; text-decoration-color: #800080; font-weight: bold\">   </span>┃<span style=\"color: #800080; text-decoration-color: #800080; font-weight: bold\"> Name            </span>┃<span style=\"color: #800080; text-decoration-color: #800080; font-weight: bold\"> Type             </span>┃<span style=\"color: #800080; text-decoration-color: #800080; font-weight: bold\"> Params </span>┃<span style=\"color: #800080; text-decoration-color: #800080; font-weight: bold\"> Mode  </span>┃\n",
       "┡━━━╇━━━━━━━━━━━━━━━━━╇━━━━━━━━━━━━━━━━━━╇━━━━━━━━╇━━━━━━━┩\n",
       "│<span style=\"color: #7f7f7f; text-decoration-color: #7f7f7f\"> 0 </span>│ criterion       │ MSELoss          │      0 │ train │\n",
       "│<span style=\"color: #7f7f7f; text-decoration-color: #7f7f7f\"> 1 </span>│ train_criterion │ MSELoss          │      0 │ train │\n",
       "│<span style=\"color: #7f7f7f; text-decoration-color: #7f7f7f\"> 2 </span>│ val_criterion   │ MSELoss          │      0 │ train │\n",
       "│<span style=\"color: #7f7f7f; text-decoration-color: #7f7f7f\"> 3 </span>│ train_metrics   │ MetricCollection │      0 │ train │\n",
       "│<span style=\"color: #7f7f7f; text-decoration-color: #7f7f7f\"> 4 </span>│ val_metrics     │ MetricCollection │      0 │ train │\n",
       "│<span style=\"color: #7f7f7f; text-decoration-color: #7f7f7f\"> 5 </span>│ rnn             │ LSTM             │ 63.2 K │ train │\n",
       "│<span style=\"color: #7f7f7f; text-decoration-color: #7f7f7f\"> 6 </span>│ V               │ Linear           │    130 │ train │\n",
       "└───┴─────────────────┴──────────────────┴────────┴───────┘\n",
       "</pre>\n"
      ],
      "text/plain": [
       "┏━━━┳━━━━━━━━━━━━━━━━━┳━━━━━━━━━━━━━━━━━━┳━━━━━━━━┳━━━━━━━┓\n",
       "┃\u001b[1;35m \u001b[0m\u001b[1;35m \u001b[0m\u001b[1;35m \u001b[0m┃\u001b[1;35m \u001b[0m\u001b[1;35mName           \u001b[0m\u001b[1;35m \u001b[0m┃\u001b[1;35m \u001b[0m\u001b[1;35mType            \u001b[0m\u001b[1;35m \u001b[0m┃\u001b[1;35m \u001b[0m\u001b[1;35mParams\u001b[0m\u001b[1;35m \u001b[0m┃\u001b[1;35m \u001b[0m\u001b[1;35mMode \u001b[0m\u001b[1;35m \u001b[0m┃\n",
       "┡━━━╇━━━━━━━━━━━━━━━━━╇━━━━━━━━━━━━━━━━━━╇━━━━━━━━╇━━━━━━━┩\n",
       "│\u001b[2m \u001b[0m\u001b[2m0\u001b[0m\u001b[2m \u001b[0m│ criterion       │ MSELoss          │      0 │ train │\n",
       "│\u001b[2m \u001b[0m\u001b[2m1\u001b[0m\u001b[2m \u001b[0m│ train_criterion │ MSELoss          │      0 │ train │\n",
       "│\u001b[2m \u001b[0m\u001b[2m2\u001b[0m\u001b[2m \u001b[0m│ val_criterion   │ MSELoss          │      0 │ train │\n",
       "│\u001b[2m \u001b[0m\u001b[2m3\u001b[0m\u001b[2m \u001b[0m│ train_metrics   │ MetricCollection │      0 │ train │\n",
       "│\u001b[2m \u001b[0m\u001b[2m4\u001b[0m\u001b[2m \u001b[0m│ val_metrics     │ MetricCollection │      0 │ train │\n",
       "│\u001b[2m \u001b[0m\u001b[2m5\u001b[0m\u001b[2m \u001b[0m│ rnn             │ LSTM             │ 63.2 K │ train │\n",
       "│\u001b[2m \u001b[0m\u001b[2m6\u001b[0m\u001b[2m \u001b[0m│ V               │ Linear           │    130 │ train │\n",
       "└───┴─────────────────┴──────────────────┴────────┴───────┘\n"
      ]
     },
     "metadata": {},
     "output_type": "display_data"
    },
    {
     "data": {
      "text/html": [
       "<pre style=\"white-space:pre;overflow-x:auto;line-height:normal;font-family:Menlo,'DejaVu Sans Mono',consolas,'Courier New',monospace\"><span style=\"font-weight: bold\">Trainable params</span>: 63.4 K                                                                                           \n",
       "<span style=\"font-weight: bold\">Non-trainable params</span>: 0                                                                                            \n",
       "<span style=\"font-weight: bold\">Total params</span>: 63.4 K                                                                                               \n",
       "<span style=\"font-weight: bold\">Total estimated model params size (MB)</span>: 0                                                                          \n",
       "<span style=\"font-weight: bold\">Modules in train mode</span>: 7                                                                                           \n",
       "<span style=\"font-weight: bold\">Modules in eval mode</span>: 0                                                                                            \n",
       "</pre>\n"
      ],
      "text/plain": [
       "\u001b[1mTrainable params\u001b[0m: 63.4 K                                                                                           \n",
       "\u001b[1mNon-trainable params\u001b[0m: 0                                                                                            \n",
       "\u001b[1mTotal params\u001b[0m: 63.4 K                                                                                               \n",
       "\u001b[1mTotal estimated model params size (MB)\u001b[0m: 0                                                                          \n",
       "\u001b[1mModules in train mode\u001b[0m: 7                                                                                           \n",
       "\u001b[1mModules in eval mode\u001b[0m: 0                                                                                            \n"
      ]
     },
     "metadata": {},
     "output_type": "display_data"
    },
    {
     "data": {
      "application/vnd.jupyter.widget-view+json": {
       "model_id": "2a7700b748684fd99dc46a04239758ab",
       "version_major": 2,
       "version_minor": 0
      },
      "text/plain": [
       "Output()"
      ]
     },
     "metadata": {},
     "output_type": "display_data"
    },
    {
     "data": {
      "text/html": [
       "<pre style=\"white-space:pre;overflow-x:auto;line-height:normal;font-family:Menlo,'DejaVu Sans Mono',consolas,'Courier New',monospace\">C:\\ProgramData\\anaconda3\\envs\\ai\\lib\\site-packages\\pytorch_lightning\\loops\\fit_loop.py:310: The number of training \n",
       "batches (33) is smaller than the logging interval Trainer(log_every_n_steps=50). Set a lower value for \n",
       "log_every_n_steps if you want to see logs for the training epoch.\n",
       "</pre>\n"
      ],
      "text/plain": [
       "C:\\ProgramData\\anaconda3\\envs\\ai\\lib\\site-packages\\pytorch_lightning\\loops\\fit_loop.py:310: The number of training \n",
       "batches (33) is smaller than the logging interval Trainer(log_every_n_steps=50). Set a lower value for \n",
       "log_every_n_steps if you want to see logs for the training epoch.\n"
      ]
     },
     "metadata": {},
     "output_type": "display_data"
    },
    {
     "name": "stderr",
     "output_type": "stream",
     "text": [
      "Epoch 0, global step 33: 'val_loss' reached -0.31280 (best -0.31280), saving model to 'C:\\\\Users\\\\AERO\\\\Downloads\\\\Video\\\\my project\\\\climate-N-BEATS-deep ar\\\\lightning_logs\\\\version_3\\\\checkpoints\\\\best-rnn-model.ckpt' as top 1\n",
      "Epoch 1, global step 66: 'val_loss' reached -0.53497 (best -0.53497), saving model to 'C:\\\\Users\\\\AERO\\\\Downloads\\\\Video\\\\my project\\\\climate-N-BEATS-deep ar\\\\lightning_logs\\\\version_3\\\\checkpoints\\\\best-rnn-model.ckpt' as top 1\n",
      "Epoch 2, global step 99: 'val_loss' reached -0.57792 (best -0.57792), saving model to 'C:\\\\Users\\\\AERO\\\\Downloads\\\\Video\\\\my project\\\\climate-N-BEATS-deep ar\\\\lightning_logs\\\\version_3\\\\checkpoints\\\\best-rnn-model.ckpt' as top 1\n",
      "Epoch 3, global step 132: 'val_loss' reached -0.61901 (best -0.61901), saving model to 'C:\\\\Users\\\\AERO\\\\Downloads\\\\Video\\\\my project\\\\climate-N-BEATS-deep ar\\\\lightning_logs\\\\version_3\\\\checkpoints\\\\best-rnn-model.ckpt' as top 1\n",
      "Epoch 4, global step 165: 'val_loss' reached -0.84077 (best -0.84077), saving model to 'C:\\\\Users\\\\AERO\\\\Downloads\\\\Video\\\\my project\\\\climate-N-BEATS-deep ar\\\\lightning_logs\\\\version_3\\\\checkpoints\\\\best-rnn-model.ckpt' as top 1\n",
      "Epoch 5, global step 198: 'val_loss' reached -0.96570 (best -0.96570), saving model to 'C:\\\\Users\\\\AERO\\\\Downloads\\\\Video\\\\my project\\\\climate-N-BEATS-deep ar\\\\lightning_logs\\\\version_3\\\\checkpoints\\\\best-rnn-model.ckpt' as top 1\n",
      "Epoch 6, global step 231: 'val_loss' was not in top 1\n",
      "Epoch 7, global step 264: 'val_loss' was not in top 1\n",
      "Epoch 8, global step 297: 'val_loss' was not in top 1\n",
      "Epoch 9, global step 330: 'val_loss' was not in top 1\n",
      "Epoch 10, global step 363: 'val_loss' was not in top 1\n",
      "Epoch 11, global step 396: 'val_loss' was not in top 1\n",
      "Epoch 12, global step 429: 'val_loss' was not in top 1\n",
      "Epoch 13, global step 462: 'val_loss' was not in top 1\n",
      "Epoch 14, global step 495: 'val_loss' was not in top 1\n",
      "Epoch 15, global step 528: 'val_loss' was not in top 1\n",
      "Epoch 16, global step 561: 'val_loss' was not in top 1\n",
      "Epoch 17, global step 594: 'val_loss' was not in top 1\n",
      "Epoch 18, global step 627: 'val_loss' was not in top 1\n",
      "Epoch 19, global step 660: 'val_loss' was not in top 1\n",
      "Epoch 20, global step 693: 'val_loss' was not in top 1\n"
     ]
    },
    {
     "data": {
      "text/html": [
       "<pre style=\"white-space:pre;overflow-x:auto;line-height:normal;font-family:Menlo,'DejaVu Sans Mono',consolas,'Courier New',monospace\"></pre>\n"
      ],
      "text/plain": []
     },
     "metadata": {},
     "output_type": "display_data"
    }
   ],
   "source": [
    "fited_model_deepar =model_deepar.fit(\n",
    "                                    series=train_ts,\n",
    "                                    # past_covariates=train_cov_pc,            # اگر past covariates داری\n",
    "                                    future_covariates=train_cov_tf,           # ویژگی‌های زمانی آینده (temporal covariates)\n",
    "                                    val_series=val_ts,\n",
    "                                    # val_past_covariates=val_cov_pc,          # اگر past covariates داری\n",
    "                                    val_future_covariates=val_cov_tf          # ویژگی‌های زمانی آینده برای اعتبارسنجی\n",
    "                                )\n"
   ]
  },
  {
   "cell_type": "code",
   "execution_count": 47,
   "id": "d266ed86-faf4-4067-b8d1-7c5b8bc2fab5",
   "metadata": {},
   "outputs": [],
   "source": [
    "model_deepar.save(\"rnn_deepar_full\")"
   ]
  },
  {
   "cell_type": "code",
   "execution_count": 48,
   "id": "831cdee5-1775-41f8-84c5-f3d5de16b92a",
   "metadata": {},
   "outputs": [],
   "source": [
    "model_deepar_loaded = RNNModel.load(\"rnn_deepar_full\")"
   ]
  },
  {
   "cell_type": "code",
   "execution_count": 49,
   "id": "0c3c5613-5a48-4f06-abde-f0b37d629812",
   "metadata": {},
   "outputs": [],
   "source": [
    "# ⚙️ گرفتن مقادیر لازم از مدل و تست‌ست\n",
    "input_chunk_length = model_deepar_loaded.input_chunk_length\n",
    "forecast_horizon = len(test_ts)\n",
    "\n",
    "# 🧠 ساخت بازه زمانی لازم برای future_covariates\n",
    "start_cov = test_ts.start_time() - pd.Timedelta(days=input_chunk_length)\n",
    "end_cov = test_ts.end_time() + pd.Timedelta(days=forecast_horizon)\n",
    "\n",
    "# 📅 تولید تقویم کامل از تاریخ شروع تا پایان پیش‌بینی\n",
    "full_cov_dates = pd.date_range(start=start_cov, end=end_cov, freq=\"D\")\n",
    "\n",
    "# 🔁 تولید چند ویژگی زمانی جداگانه\n",
    "feat_day = datetime_attribute_timeseries(full_cov_dates, attribute=\"day\", one_hot=True, dtype=np.float32)\n",
    "feat_month = datetime_attribute_timeseries(full_cov_dates, attribute=\"month\", one_hot=True, dtype=np.float32)\n",
    "feat_weekday = datetime_attribute_timeseries(full_cov_dates, attribute=\"weekday\", one_hot=True, dtype=np.float32)\n",
    "\n",
    "# 🔗 ترکیب همه ویژگی‌ها در یک TimeSeries\n",
    "future_feat_full = concatenate([feat_day, feat_month, feat_weekday], axis=1)\n",
    "\n",
    "# ⚖️ مقیاس‌گذاری با Scaler قبلاً fit شده روی train\n",
    "test_cov_future = scaler_ts.transform(future_feat_full)"
   ]
  },
  {
   "cell_type": "code",
   "execution_count": 50,
   "id": "63b0f19e-23d6-43a2-b53e-b34ea6d11f9a",
   "metadata": {},
   "outputs": [
    {
     "name": "stderr",
     "output_type": "stream",
     "text": [
      "GPU available: True (cuda), used: True\n",
      "TPU available: False, using: 0 TPU cores\n",
      "HPU available: False, using: 0 HPUs\n",
      "LOCAL_RANK: 0 - CUDA_VISIBLE_DEVICES: [0]\n"
     ]
    },
    {
     "data": {
      "application/vnd.jupyter.widget-view+json": {
       "model_id": "2ba10f44c59346a38e4540acf50f5d78",
       "version_major": 2,
       "version_minor": 0
      },
      "text/plain": [
       "Output()"
      ]
     },
     "metadata": {},
     "output_type": "display_data"
    },
    {
     "data": {
      "text/html": [
       "<pre style=\"white-space:pre;overflow-x:auto;line-height:normal;font-family:Menlo,'DejaVu Sans Mono',consolas,'Courier New',monospace\"></pre>\n"
      ],
      "text/plain": []
     },
     "metadata": {},
     "output_type": "display_data"
    },
    {
     "name": "stdout",
     "output_type": "stream",
     "text": [
      "✅ Test MAE: 0.08546654024492886\n",
      "✅ Test MAPE: 18.081372796821952\n"
     ]
    },
    {
     "data": {
      "image/png": "[encoded data removed]",
      "text/plain": [
       "<Figure size 640x480 with 1 Axes>"
      ]
     },
     "metadata": {},
     "output_type": "display_data"
    }
   ],
   "source": [
    "# پیش‌بینی روی test_ts\n",
    "pred_test = model_deepar_loaded.predict(\n",
    "    n=len(test_ts),\n",
    "    series=train_ts.append(val_ts),\n",
    "    future_covariates=test_cov_future,\n",
    "    num_samples=100\n",
    ")\n",
    "\n",
    "# ارزیابی فقط روی بخش همپوشان\n",
    "actual = test_ts.slice_intersect(pred_test)\n",
    "forecast = pred_test.slice_intersect(test_ts)\n",
    "\n",
    "if len(actual) > 0 and len(forecast) > 0:\n",
    "    print(\"✅ Test MAE:\", mae(actual, forecast))\n",
    "    print(\"✅ Test MAPE:\", mape(actual, forecast))\n",
    "\n",
    "    actual.plot(label='Actual')\n",
    "    forecast.plot(label='Forecast (0.05-0.95 quantiles)')\n",
    "else:\n",
    "    print(\"❌ No valid overlapping data between test set and prediction.\")"
   ]
  },
  {
   "cell_type": "code",
   "execution_count": 51,
   "id": "b65d7519-0d2f-481a-8dd9-fd7004f4b60c",
   "metadata": {},
   "outputs": [
    {
     "name": "stdout",
     "output_type": "stream",
     "text": [
      "تعداد پیش‌بینی‌ها: 236\n"
     ]
    }
   ],
   "source": [
    "print(f\"تعداد پیش‌بینی‌ها: {len(pred_test)}\")"
   ]
  },
  {
   "cell_type": "code",
   "execution_count": 52,
   "id": "a924bb7b-fac6-4e43-a345-35f8983f4805",
   "metadata": {},
   "outputs": [
    {
     "name": "stderr",
     "output_type": "stream",
     "text": [
      "`fit_kwargs` was provided with `retrain=False`, the argument will be ignored.\n",
      "GPU available: True (cuda), used: True\n",
      "TPU available: False, using: 0 TPU cores\n",
      "HPU available: False, using: 0 HPUs\n",
      "LOCAL_RANK: 0 - CUDA_VISIBLE_DEVICES: [0]\n"
     ]
    },
    {
     "data": {
      "application/vnd.jupyter.widget-view+json": {
       "model_id": "bc364bb309024cb18d11f5b71e9f0345",
       "version_major": 2,
       "version_minor": 0
      },
      "text/plain": [
       "Output()"
      ]
     },
     "metadata": {},
     "output_type": "display_data"
    },
    {
     "data": {
      "text/html": [
       "<pre style=\"white-space:pre;overflow-x:auto;line-height:normal;font-family:Menlo,'DejaVu Sans Mono',consolas,'Courier New',monospace\"></pre>\n"
      ],
      "text/plain": []
     },
     "metadata": {},
     "output_type": "display_data"
    }
   ],
   "source": [
    "# فرض کنید val_ts و val_cov_tf داده‌های اعتبارسنجی هستند\n",
    "fit_kwargs = {\n",
    "    \"val_series\": val_ts,\n",
    "    \"val_future_covariates\": val_cov_tf,\n",
    "    # اگر past_covariates دارید:\n",
    "    # \"val_past_covariates\": val_cov_pc,\n",
    "}\n",
    "\n",
    "historical_forecasts_goog = model_deepar_loaded.historical_forecasts(\n",
    "    series=df_ts_daily_transform,\n",
    "    future_covariates=time_feat,\n",
    "    num_samples=40,\n",
    "    start=0.8,\n",
    "    forecast_horizon=14,\n",
    "    retrain=False,\n",
    "    stride=30,\n",
    "    last_points_only=False,\n",
    "    fit_kwargs=fit_kwargs  # این خط را اضافه کنید\n",
    ")\n"
   ]
  },
  {
   "cell_type": "code",
   "execution_count": 53,
   "id": "f9986e77-4022-4eec-884e-b7debc119e20",
   "metadata": {},
   "outputs": [],
   "source": [
    "import pickle\n",
    "\n",
    "with open(\"historical_forecasts_goog.pkl\", \"wb\") as f:\n",
    "    pickle.dump(historical_forecasts_goog, f)\n"
   ]
  },
  {
   "cell_type": "code",
   "execution_count": 54,
   "id": "0a0c1384-db8a-4857-b397-851cc2c83179",
   "metadata": {},
   "outputs": [],
   "source": [
    "import pickle\n",
    "\n",
    "# بارگذاری فایل\n",
    "with open(\"historical_forecasts_goog.pkl\", \"rb\") as f:\n",
    "    historical_forecasts_goog = pickle.load(f)\n"
   ]
  },
  {
   "cell_type": "code",
   "execution_count": 55,
   "id": "f75ff472-cadf-4f3a-a2c3-335dca72b62c",
   "metadata": {},
   "outputs": [],
   "source": [
    "error_score = model_deepar_loaded.backtest(\n",
    "    series=df_ts_daily_transform,\n",
    "    future_covariates=time_feat,\n",
    "    historical_forecasts=historical_forecasts_goog,\n",
    "    metric=[mae, mape, smape, rmse],\n",
    "    retrain=False,\n",
    "    verbose=True,\n",
    "    last_points_only=False\n",
    ")\n"
   ]
  },
  {
   "cell_type": "code",
   "execution_count": 56,
   "id": "dc9bacbc-8c28-409b-aaea-cf9bcb7d27d1",
   "metadata": {},
   "outputs": [
    {
     "name": "stdout",
     "output_type": "stream",
     "text": [
      "MAE: 0.08515498932305868 , MAPA: 16.39329000753949 , smape: 17.89396159762079 , rmse: 0.0974059444316559\n"
     ]
    }
   ],
   "source": [
    "print(f\"MAE: {error_score[0]} , MAPA: {error_score[1]} , smape: {error_score[2]} , rmse: {error_score[3]}\" )"
   ]
  },
  {
   "cell_type": "code",
   "execution_count": 57,
   "id": "bda2346c-716f-487f-84dd-06c03b1e2c2e",
   "metadata": {},
   "outputs": [],
   "source": [
    "\n",
    "# ساخت Logger\n",
    "logger_nbeats = CSVLogger(\"lightning_logs\", name=\"nbeats_logs\")\n",
    "\n",
    "# تعریف callbacks دقیقاً مشابه قبلی\n",
    "callbacks_nbeats = [\n",
    "    EarlyStopping(\n",
    "        monitor=\"val_loss\",\n",
    "        patience=15,\n",
    "        min_delta=0.1,\n",
    "        mode=\"min\"\n",
    "    ),\n",
    "    ModelCheckpoint(\n",
    "        monitor=\"val_loss\",\n",
    "        save_top_k=1,\n",
    "        mode=\"min\",\n",
    "        filename=\"best-nbeats-model\",\n",
    "        verbose=True\n",
    "    ),\n",
    "    LearningRateMonitor(logging_interval='epoch'),\n",
    "    Timer(),\n",
    "    # RichProgressBar()\n",
    "]\n",
    "\n",
    "# تعریف مدل N-BEATS با ساختار مشابه RNNModel شما\n",
    "model_nbeats = NBEATSModel(\n",
    "    input_chunk_length=30,\n",
    "    output_chunk_length=10,\n",
    "    n_epochs=200,\n",
    "    batch_size=32,\n",
    "    random_state=42,\n",
    "    model_name=\"nbeats_model\",\n",
    "    force_reset=True,\n",
    "    save_checkpoints=False,\n",
    "    # likelihood=GaussianLikelihood(),  # اگر بخواهید شبیه DeepAR شود\n",
    "    optimizer_kwargs={\"lr\": 5e-3},\n",
    "    lr_scheduler_cls=torch.optim.lr_scheduler.ReduceLROnPlateau,\n",
    "    lr_scheduler_kwargs={\n",
    "        \"mode\": \"min\",\n",
    "        \"factor\": 0.5,\n",
    "        \"patience\": 5\n",
    "    },\n",
    "    pl_trainer_kwargs={\n",
    "        \"accelerator\": \"gpu\" if torch.cuda.is_available() else \"cpu\",\n",
    "        \"enable_checkpointing\": True,\n",
    "        \"enable_progress_bar\": True,\n",
    "        \"callbacks\": callbacks_nbeats,\n",
    "        \"logger\": logger_nbeats\n",
    "    }\n",
    ")"
   ]
  },
  {
   "cell_type": "code",
   "execution_count": 58,
   "id": "aca3c508-9714-4abb-9763-ebccc8f68d76",
   "metadata": {
    "scrolled": true
   },
   "outputs": [
    {
     "name": "stderr",
     "output_type": "stream",
     "text": [
      "GPU available: True (cuda), used: True\n",
      "TPU available: False, using: 0 TPU cores\n",
      "HPU available: False, using: 0 HPUs\n",
      "LOCAL_RANK: 0 - CUDA_VISIBLE_DEVICES: [0]\n",
      "\n",
      "  | Name            | Type             | Params | Mode \n",
      "-------------------------------------------------------------\n",
      "0 | criterion       | MSELoss          | 0      | train\n",
      "1 | train_criterion | MSELoss          | 0      | train\n",
      "2 | val_criterion   | MSELoss          | 0      | train\n",
      "3 | train_metrics   | MetricCollection | 0      | train\n",
      "4 | val_metrics     | MetricCollection | 0      | train\n",
      "5 | stacks          | ModuleList       | 7.7 M  | train\n",
      "-------------------------------------------------------------\n",
      "7.7 M     Trainable params\n",
      "2.5 K     Non-trainable params\n",
      "7.7 M     Total params\n",
      "30.677    Total estimated model params size (MB)\n",
      "396       Modules in train mode\n",
      "0         Modules in eval mode\n"
     ]
    },
    {
     "data": {
      "application/vnd.jupyter.widget-view+json": {
       "model_id": "6521316852144e8a8f34617b2773413b",
       "version_major": 2,
       "version_minor": 0
      },
      "text/plain": [
       "Sanity Checking: |          | 0/? [00:00<?, ?it/s]"
      ]
     },
     "metadata": {},
     "output_type": "display_data"
    },
    {
     "name": "stderr",
     "output_type": "stream",
     "text": [
      "C:\\ProgramData\\anaconda3\\envs\\ai\\lib\\site-packages\\pytorch_lightning\\loops\\fit_loop.py:310: The number of training batches (34) is smaller than the logging interval Trainer(log_every_n_steps=50). Set a lower value for log_every_n_steps if you want to see logs for the training epoch.\n"
     ]
    },
    {
     "data": {
      "application/vnd.jupyter.widget-view+json": {
       "model_id": "67f2d50c45f0407891a79720a7ba15cd",
       "version_major": 2,
       "version_minor": 0
      },
      "text/plain": [
       "Training: |          | 0/? [00:00<?, ?it/s]"
      ]
     },
     "metadata": {},
     "output_type": "display_data"
    },
    {
     "data": {
      "application/vnd.jupyter.widget-view+json": {
       "model_id": "65348a2947724482a0f5f40dbfda7cc2",
       "version_major": 2,
       "version_minor": 0
      },
      "text/plain": [
       "Validation: |          | 0/? [00:00<?, ?it/s]"
      ]
     },
     "metadata": {},
     "output_type": "display_data"
    },
    {
     "name": "stderr",
     "output_type": "stream",
     "text": [
      "Epoch 0, global step 34: 'val_loss' reached 0.02955 (best 0.02955), saving model to 'lightning_logs\\\\nbeats_logs\\\\version_2\\\\checkpoints\\\\best-nbeats-model.ckpt' as top 1\n"
     ]
    },
    {
     "data": {
      "application/vnd.jupyter.widget-view+json": {
       "model_id": "16d7bb13fa0e425dbc3190e64fc97827",
       "version_major": 2,
       "version_minor": 0
      },
      "text/plain": [
       "Validation: |          | 0/? [00:00<?, ?it/s]"
      ]
     },
     "metadata": {},
     "output_type": "display_data"
    },
    {
     "name": "stderr",
     "output_type": "stream",
     "text": [
      "Epoch 1, global step 68: 'val_loss' reached 0.00756 (best 0.00756), saving model to 'lightning_logs\\\\nbeats_logs\\\\version_2\\\\checkpoints\\\\best-nbeats-model.ckpt' as top 1\n"
     ]
    },
    {
     "data": {
      "application/vnd.jupyter.widget-view+json": {
       "model_id": "b9a9cff9e4c148ae9ee58a73489c1b45",
       "version_major": 2,
       "version_minor": 0
      },
      "text/plain": [
       "Validation: |          | 0/? [00:00<?, ?it/s]"
      ]
     },
     "metadata": {},
     "output_type": "display_data"
    },
    {
     "name": "stderr",
     "output_type": "stream",
     "text": [
      "Epoch 2, global step 102: 'val_loss' reached 0.00530 (best 0.00530), saving model to 'lightning_logs\\\\nbeats_logs\\\\version_2\\\\checkpoints\\\\best-nbeats-model.ckpt' as top 1\n"
     ]
    },
    {
     "data": {
      "application/vnd.jupyter.widget-view+json": {
       "model_id": "91e9d22cd4dd4d40869e058999dd8c21",
       "version_major": 2,
       "version_minor": 0
      },
      "text/plain": [
       "Validation: |          | 0/? [00:00<?, ?it/s]"
      ]
     },
     "metadata": {},
     "output_type": "display_data"
    },
    {
     "name": "stderr",
     "output_type": "stream",
     "text": [
      "Epoch 3, global step 136: 'val_loss' was not in top 1\n"
     ]
    },
    {
     "data": {
      "application/vnd.jupyter.widget-view+json": {
       "model_id": "d7c9b0274f8c44f199b1eddd9a0a734a",
       "version_major": 2,
       "version_minor": 0
      },
      "text/plain": [
       "Validation: |          | 0/? [00:00<?, ?it/s]"
      ]
     },
     "metadata": {},
     "output_type": "display_data"
    },
    {
     "name": "stderr",
     "output_type": "stream",
     "text": [
      "Epoch 4, global step 170: 'val_loss' was not in top 1\n"
     ]
    },
    {
     "data": {
      "application/vnd.jupyter.widget-view+json": {
       "model_id": "ef0d7d34df814650b85b038cb3d1a799",
       "version_major": 2,
       "version_minor": 0
      },
      "text/plain": [
       "Validation: |          | 0/? [00:00<?, ?it/s]"
      ]
     },
     "metadata": {},
     "output_type": "display_data"
    },
    {
     "name": "stderr",
     "output_type": "stream",
     "text": [
      "Epoch 5, global step 204: 'val_loss' was not in top 1\n"
     ]
    },
    {
     "data": {
      "application/vnd.jupyter.widget-view+json": {
       "model_id": "7ad9e03eac5542b4b78a4bcee78bf943",
       "version_major": 2,
       "version_minor": 0
      },
      "text/plain": [
       "Validation: |          | 0/? [00:00<?, ?it/s]"
      ]
     },
     "metadata": {},
     "output_type": "display_data"
    },
    {
     "name": "stderr",
     "output_type": "stream",
     "text": [
      "Epoch 6, global step 238: 'val_loss' was not in top 1\n"
     ]
    },
    {
     "data": {
      "application/vnd.jupyter.widget-view+json": {
       "model_id": "8d078a411ae7454ea70ee64e6020f3fa",
       "version_major": 2,
       "version_minor": 0
      },
      "text/plain": [
       "Validation: |          | 0/? [00:00<?, ?it/s]"
      ]
     },
     "metadata": {},
     "output_type": "display_data"
    },
    {
     "name": "stderr",
     "output_type": "stream",
     "text": [
      "Epoch 7, global step 272: 'val_loss' was not in top 1\n"
     ]
    },
    {
     "data": {
      "application/vnd.jupyter.widget-view+json": {
       "model_id": "5d92dcd61e8146c394df3df3fd3a7a81",
       "version_major": 2,
       "version_minor": 0
      },
      "text/plain": [
       "Validation: |          | 0/? [00:00<?, ?it/s]"
      ]
     },
     "metadata": {},
     "output_type": "display_data"
    },
    {
     "name": "stderr",
     "output_type": "stream",
     "text": [
      "Epoch 8, global step 306: 'val_loss' was not in top 1\n"
     ]
    },
    {
     "data": {
      "application/vnd.jupyter.widget-view+json": {
       "model_id": "10500ca2f7d047b0bd8d7d886c0e41ce",
       "version_major": 2,
       "version_minor": 0
      },
      "text/plain": [
       "Validation: |          | 0/? [00:00<?, ?it/s]"
      ]
     },
     "metadata": {},
     "output_type": "display_data"
    },
    {
     "name": "stderr",
     "output_type": "stream",
     "text": [
      "Epoch 9, global step 340: 'val_loss' reached 0.00471 (best 0.00471), saving model to 'lightning_logs\\\\nbeats_logs\\\\version_2\\\\checkpoints\\\\best-nbeats-model.ckpt' as top 1\n"
     ]
    },
    {
     "data": {
      "application/vnd.jupyter.widget-view+json": {
       "model_id": "27b63e1f149a4625a6d6cd7be52d3ff4",
       "version_major": 2,
       "version_minor": 0
      },
      "text/plain": [
       "Validation: |          | 0/? [00:00<?, ?it/s]"
      ]
     },
     "metadata": {},
     "output_type": "display_data"
    },
    {
     "name": "stderr",
     "output_type": "stream",
     "text": [
      "Epoch 10, global step 374: 'val_loss' was not in top 1\n"
     ]
    },
    {
     "data": {
      "application/vnd.jupyter.widget-view+json": {
       "model_id": "a049b940cf0f41f0b2149773024449a5",
       "version_major": 2,
       "version_minor": 0
      },
      "text/plain": [
       "Validation: |          | 0/? [00:00<?, ?it/s]"
      ]
     },
     "metadata": {},
     "output_type": "display_data"
    },
    {
     "name": "stderr",
     "output_type": "stream",
     "text": [
      "Epoch 11, global step 408: 'val_loss' reached 0.00433 (best 0.00433), saving model to 'lightning_logs\\\\nbeats_logs\\\\version_2\\\\checkpoints\\\\best-nbeats-model.ckpt' as top 1\n"
     ]
    },
    {
     "data": {
      "application/vnd.jupyter.widget-view+json": {
       "model_id": "aeba00c1732a4b6383ce20fbb471e071",
       "version_major": 2,
       "version_minor": 0
      },
      "text/plain": [
       "Validation: |          | 0/? [00:00<?, ?it/s]"
      ]
     },
     "metadata": {},
     "output_type": "display_data"
    },
    {
     "name": "stderr",
     "output_type": "stream",
     "text": [
      "Epoch 12, global step 442: 'val_loss' was not in top 1\n"
     ]
    },
    {
     "data": {
      "application/vnd.jupyter.widget-view+json": {
       "model_id": "8e55d661100d45a4b2d99993502cc364",
       "version_major": 2,
       "version_minor": 0
      },
      "text/plain": [
       "Validation: |          | 0/? [00:00<?, ?it/s]"
      ]
     },
     "metadata": {},
     "output_type": "display_data"
    },
    {
     "name": "stderr",
     "output_type": "stream",
     "text": [
      "Epoch 13, global step 476: 'val_loss' was not in top 1\n"
     ]
    },
    {
     "data": {
      "application/vnd.jupyter.widget-view+json": {
       "model_id": "735b78b6e85048caa78fd807550c4132",
       "version_major": 2,
       "version_minor": 0
      },
      "text/plain": [
       "Validation: |          | 0/? [00:00<?, ?it/s]"
      ]
     },
     "metadata": {},
     "output_type": "display_data"
    },
    {
     "name": "stderr",
     "output_type": "stream",
     "text": [
      "Epoch 14, global step 510: 'val_loss' was not in top 1\n"
     ]
    },
    {
     "data": {
      "application/vnd.jupyter.widget-view+json": {
       "model_id": "78e15bc839dd4b3ba04ffe3e3b47eeea",
       "version_major": 2,
       "version_minor": 0
      },
      "text/plain": [
       "Validation: |          | 0/? [00:00<?, ?it/s]"
      ]
     },
     "metadata": {},
     "output_type": "display_data"
    },
    {
     "name": "stderr",
     "output_type": "stream",
     "text": [
      "Epoch 15, global step 544: 'val_loss' was not in top 1\n"
     ]
    }
   ],
   "source": [
    "fited_model_nbeats = model_nbeats.fit(\n",
    "                                    series=train_ts,\n",
    "                                    past_covariates=train_cov_pc,\n",
    "                                    val_series=val_ts,\n",
    "                                    val_past_covariates=val_cov_pc\n",
    "                                )\n",
    "\n",
    "model_nbeats.save(\"nbeats_model_full\")"
   ]
  },
  {
   "cell_type": "code",
   "execution_count": 61,
   "id": "aeb2810a-45c9-49d3-9660-59ff045b08ca",
   "metadata": {
    "scrolled": true
   },
   "outputs": [
    {
     "name": "stderr",
     "output_type": "stream",
     "text": [
      "`predict()` was called with `n > output_chunk_length`: using auto-regression to forecast the values after `output_chunk_length` points. The model will access `(n - output_chunk_length)` future values of your `past_covariates` (relative to the first predicted time step). To hide this warning, set `show_warnings=False`.\n",
      "GPU available: True (cuda), used: True\n",
      "TPU available: False, using: 0 TPU cores\n",
      "HPU available: False, using: 0 HPUs\n",
      "LOCAL_RANK: 0 - CUDA_VISIBLE_DEVICES: [0]\n"
     ]
    },
    {
     "data": {
      "application/vnd.jupyter.widget-view+json": {
       "model_id": "b0c30a22fa9a43c4a1fdf66f0b33abf8",
       "version_major": 2,
       "version_minor": 0
      },
      "text/plain": [
       "Predicting: |          | 0/? [00:00<?, ?it/s]"
      ]
     },
     "metadata": {},
     "output_type": "display_data"
    },
    {
     "name": "stdout",
     "output_type": "stream",
     "text": [
      "✅ Test MAE: 0.05738843\n",
      "✅ Test MAPE: 13.646559\n"
     ]
    },
    {
     "data": {
      "image/png": "[encoded data removed]",
      "text/plain": [
       "<Figure size 640x480 with 1 Axes>"
      ]
     },
     "metadata": {},
     "output_type": "display_data"
    }
   ],
   "source": [
    "# پیش‌بینی روی test_ts\n",
    "pred_test = fited_model_nbeats.predict(\n",
    "    n=len(test_ts),\n",
    "    series=train_ts.append(val_ts),\n",
    "    #future_covariates=test_cov_future,\n",
    "    past_covariates = past_cov_scaled,\n",
    "    #num_samples=100\n",
    ")\n",
    "\n",
    "# ارزیابی فقط روی بخش همپوشان\n",
    "actual = test_ts.slice_intersect(pred_test)\n",
    "forecast = pred_test.slice_intersect(test_ts)\n",
    "\n",
    "if len(actual) > 0 and len(forecast) > 0:\n",
    "    print(\"✅ Test MAE:\", mae(actual, forecast))\n",
    "    print(\"✅ Test MAPE:\", mape(actual, forecast))\n",
    "\n",
    "    actual.plot(label='Actual')\n",
    "    forecast.plot(label='Forecast (0.05-0.95 quantiles)')\n",
    "else:\n",
    "    print(\"❌ No valid overlapping data between test set and prediction.\")"
   ]
  },
  {
   "cell_type": "code",
   "execution_count": null,
   "id": "fb163ccc-901f-4d63-8f5b-9919f2205803",
   "metadata": {},
   "outputs": [],
   "source": []
  }
 ],
 "metadata": {
  "kernelspec": {
   "display_name": "Python 3 (ipykernel)",
   "language": "python",
   "name": "python3"
  },
  "language_info": {
   "codemirror_mode": {
    "name": "ipython",
    "version": 3
   },
   "file_extension": ".py",
   "mimetype": "text/x-python",
   "name": "python",
   "nbconvert_exporter": "python",
   "pygments_lexer": "ipython3",
   "version": "3.9.21"
  }
 },
 "nbformat": 4,
 "nbformat_minor": 5
}
